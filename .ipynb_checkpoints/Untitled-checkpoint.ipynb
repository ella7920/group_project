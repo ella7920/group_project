{
 "cells": [
  {
   "cell_type": "code",
   "execution_count": 10,
   "metadata": {},
   "outputs": [
    {
     "name": "stderr",
     "output_type": "stream",
     "text": [
      "Warning message in file(filename, \"r\", encoding = encoding):\n",
      "“cannot open file 'tests.R': No such file or directory”\n"
     ]
    },
    {
     "ename": "ERROR",
     "evalue": "Error in file(filename, \"r\", encoding = encoding): cannot open the connection\n",
     "output_type": "error",
     "traceback": [
      "Error in file(filename, \"r\", encoding = encoding): cannot open the connection\nTraceback:\n",
      "1. source(\"tests.R\")",
      "2. file(filename, \"r\", encoding = encoding)"
     ]
    }
   ],
   "source": [
    "library(tidyverse)\n",
    "library(repr)\n",
    "library(tidymodels)\n",
    "options(repr.matrix.max.rows = 6)\n",
    "source('tests.R')\n",
    "source('cleanup.R')"
   ]
  },
  {
   "cell_type": "code",
   "execution_count": 11,
   "metadata": {},
   "outputs": [
    {
     "name": "stderr",
     "output_type": "stream",
     "text": [
      "Parsed with column specification:\n",
      "cols(\n",
      "  .default = col_double()\n",
      ")\n",
      "\n",
      "See spec(...) for full column specifications.\n",
      "\n"
     ]
    },
    {
     "data": {
      "text/html": [
       "<table>\n",
       "<caption>A spec_tbl_df: 487 × 35</caption>\n",
       "<thead>\n",
       "\t<tr><th scope=col>SectionA</th><th scope=col>Sex</th><th scope=col>HeadOcc</th><th scope=col>Fa/age</th><th scope=col>Fa/edu</th><th scope=col>Hhsize</th><th scope=col>Expenditur/mon</th><th scope=col>Coop</th><th scope=col>SectionB</th><th scope=col>Mo/age</th><th scope=col>⋯</th><th scope=col>SectionD</th><th scope=col>Childsex</th><th scope=col>Childage/Mon</th><th scope=col>Birtorder</th><th scope=col>Birtinterva</th><th scope=col>HealthStatu</th><th scope=col>NoVac</th><th scope=col>AllVacc</th><th scope=col>SectionE</th><th scope=col>NutritnStat</th></tr>\n",
       "\t<tr><th scope=col>&lt;dbl&gt;</th><th scope=col>&lt;dbl&gt;</th><th scope=col>&lt;dbl&gt;</th><th scope=col>&lt;dbl&gt;</th><th scope=col>&lt;dbl&gt;</th><th scope=col>&lt;dbl&gt;</th><th scope=col>&lt;dbl&gt;</th><th scope=col>&lt;dbl&gt;</th><th scope=col>&lt;dbl&gt;</th><th scope=col>&lt;dbl&gt;</th><th scope=col>⋯</th><th scope=col>&lt;dbl&gt;</th><th scope=col>&lt;dbl&gt;</th><th scope=col>&lt;dbl&gt;</th><th scope=col>&lt;dbl&gt;</th><th scope=col>&lt;dbl&gt;</th><th scope=col>&lt;dbl&gt;</th><th scope=col>&lt;dbl&gt;</th><th scope=col>&lt;dbl&gt;</th><th scope=col>&lt;dbl&gt;</th><th scope=col>&lt;dbl&gt;</th></tr>\n",
       "</thead>\n",
       "<tbody>\n",
       "\t<tr><td>0</td><td>1</td><td>1</td><td>85</td><td>12</td><td>7</td><td>69800</td><td>1</td><td>0</td><td>30</td><td>⋯</td><td>0</td><td>1</td><td>11</td><td>2</td><td>22</td><td>1</td><td>0</td><td>1</td><td>0</td><td>1</td></tr>\n",
       "\t<tr><td>0</td><td>1</td><td>1</td><td>62</td><td>12</td><td>5</td><td>87000</td><td>0</td><td>0</td><td>32</td><td>⋯</td><td>0</td><td>0</td><td>36</td><td>1</td><td> 0</td><td>1</td><td>0</td><td>1</td><td>0</td><td>1</td></tr>\n",
       "\t<tr><td>0</td><td>1</td><td>1</td><td>45</td><td>12</td><td>8</td><td>77300</td><td>0</td><td>0</td><td>35</td><td>⋯</td><td>0</td><td>1</td><td>34</td><td>5</td><td>56</td><td>1</td><td>0</td><td>1</td><td>0</td><td>1</td></tr>\n",
       "\t<tr><td>⋮</td><td>⋮</td><td>⋮</td><td>⋮</td><td>⋮</td><td>⋮</td><td>⋮</td><td>⋮</td><td>⋮</td><td>⋮</td><td>⋱</td><td>⋮</td><td>⋮</td><td>⋮</td><td>⋮</td><td>⋮</td><td>⋮</td><td>⋮</td><td>⋮</td><td>⋮</td><td>⋮</td></tr>\n",
       "\t<tr><td>0</td><td>1</td><td>0</td><td>38</td><td>12</td><td> 6</td><td>65000</td><td>0</td><td>0</td><td>30</td><td>⋯</td><td>0</td><td>0</td><td>22</td><td>4</td><td>38</td><td>1</td><td>0</td><td>1</td><td>0</td><td>1</td></tr>\n",
       "\t<tr><td>0</td><td>1</td><td>0</td><td>60</td><td>12</td><td>12</td><td>84000</td><td>1</td><td>0</td><td>29</td><td>⋯</td><td>0</td><td>1</td><td>30</td><td>2</td><td>24</td><td>1</td><td>0</td><td>1</td><td>0</td><td>0</td></tr>\n",
       "\t<tr><td>0</td><td>0</td><td>0</td><td>32</td><td>12</td><td> 5</td><td>45000</td><td>0</td><td>0</td><td>29</td><td>⋯</td><td>0</td><td>0</td><td>15</td><td>3</td><td>18</td><td>1</td><td>0</td><td>1</td><td>0</td><td>1</td></tr>\n",
       "</tbody>\n",
       "</table>\n"
      ],
      "text/latex": [
       "A spec\\_tbl\\_df: 487 × 35\n",
       "\\begin{tabular}{lllllllllllllllllllll}\n",
       " SectionA & Sex & HeadOcc & Fa/age & Fa/edu & Hhsize & Expenditur/mon & Coop & SectionB & Mo/age & ⋯ & SectionD & Childsex & Childage/Mon & Birtorder & Birtinterva & HealthStatu & NoVac & AllVacc & SectionE & NutritnStat\\\\\n",
       " <dbl> & <dbl> & <dbl> & <dbl> & <dbl> & <dbl> & <dbl> & <dbl> & <dbl> & <dbl> & ⋯ & <dbl> & <dbl> & <dbl> & <dbl> & <dbl> & <dbl> & <dbl> & <dbl> & <dbl> & <dbl>\\\\\n",
       "\\hline\n",
       "\t 0 & 1 & 1 & 85 & 12 & 7 & 69800 & 1 & 0 & 30 & ⋯ & 0 & 1 & 11 & 2 & 22 & 1 & 0 & 1 & 0 & 1\\\\\n",
       "\t 0 & 1 & 1 & 62 & 12 & 5 & 87000 & 0 & 0 & 32 & ⋯ & 0 & 0 & 36 & 1 &  0 & 1 & 0 & 1 & 0 & 1\\\\\n",
       "\t 0 & 1 & 1 & 45 & 12 & 8 & 77300 & 0 & 0 & 35 & ⋯ & 0 & 1 & 34 & 5 & 56 & 1 & 0 & 1 & 0 & 1\\\\\n",
       "\t ⋮ & ⋮ & ⋮ & ⋮ & ⋮ & ⋮ & ⋮ & ⋮ & ⋮ & ⋮ & ⋱ & ⋮ & ⋮ & ⋮ & ⋮ & ⋮ & ⋮ & ⋮ & ⋮ & ⋮ & ⋮\\\\\n",
       "\t 0 & 1 & 0 & 38 & 12 &  6 & 65000 & 0 & 0 & 30 & ⋯ & 0 & 0 & 22 & 4 & 38 & 1 & 0 & 1 & 0 & 1\\\\\n",
       "\t 0 & 1 & 0 & 60 & 12 & 12 & 84000 & 1 & 0 & 29 & ⋯ & 0 & 1 & 30 & 2 & 24 & 1 & 0 & 1 & 0 & 0\\\\\n",
       "\t 0 & 0 & 0 & 32 & 12 &  5 & 45000 & 0 & 0 & 29 & ⋯ & 0 & 0 & 15 & 3 & 18 & 1 & 0 & 1 & 0 & 1\\\\\n",
       "\\end{tabular}\n"
      ],
      "text/markdown": [
       "\n",
       "A spec_tbl_df: 487 × 35\n",
       "\n",
       "| SectionA &lt;dbl&gt; | Sex &lt;dbl&gt; | HeadOcc &lt;dbl&gt; | Fa/age &lt;dbl&gt; | Fa/edu &lt;dbl&gt; | Hhsize &lt;dbl&gt; | Expenditur/mon &lt;dbl&gt; | Coop &lt;dbl&gt; | SectionB &lt;dbl&gt; | Mo/age &lt;dbl&gt; | ⋯ ⋯ | SectionD &lt;dbl&gt; | Childsex &lt;dbl&gt; | Childage/Mon &lt;dbl&gt; | Birtorder &lt;dbl&gt; | Birtinterva &lt;dbl&gt; | HealthStatu &lt;dbl&gt; | NoVac &lt;dbl&gt; | AllVacc &lt;dbl&gt; | SectionE &lt;dbl&gt; | NutritnStat &lt;dbl&gt; |\n",
       "|---|---|---|---|---|---|---|---|---|---|---|---|---|---|---|---|---|---|---|---|---|\n",
       "| 0 | 1 | 1 | 85 | 12 | 7 | 69800 | 1 | 0 | 30 | ⋯ | 0 | 1 | 11 | 2 | 22 | 1 | 0 | 1 | 0 | 1 |\n",
       "| 0 | 1 | 1 | 62 | 12 | 5 | 87000 | 0 | 0 | 32 | ⋯ | 0 | 0 | 36 | 1 |  0 | 1 | 0 | 1 | 0 | 1 |\n",
       "| 0 | 1 | 1 | 45 | 12 | 8 | 77300 | 0 | 0 | 35 | ⋯ | 0 | 1 | 34 | 5 | 56 | 1 | 0 | 1 | 0 | 1 |\n",
       "| ⋮ | ⋮ | ⋮ | ⋮ | ⋮ | ⋮ | ⋮ | ⋮ | ⋮ | ⋮ | ⋱ | ⋮ | ⋮ | ⋮ | ⋮ | ⋮ | ⋮ | ⋮ | ⋮ | ⋮ | ⋮ |\n",
       "| 0 | 1 | 0 | 38 | 12 |  6 | 65000 | 0 | 0 | 30 | ⋯ | 0 | 0 | 22 | 4 | 38 | 1 | 0 | 1 | 0 | 1 |\n",
       "| 0 | 1 | 0 | 60 | 12 | 12 | 84000 | 1 | 0 | 29 | ⋯ | 0 | 1 | 30 | 2 | 24 | 1 | 0 | 1 | 0 | 0 |\n",
       "| 0 | 0 | 0 | 32 | 12 |  5 | 45000 | 0 | 0 | 29 | ⋯ | 0 | 0 | 15 | 3 | 18 | 1 | 0 | 1 | 0 | 1 |\n",
       "\n"
      ],
      "text/plain": [
       "    SectionA Sex HeadOcc Fa/age Fa/edu Hhsize Expenditur/mon Coop SectionB\n",
       "1   0        1   1       85     12     7      69800          1    0       \n",
       "2   0        1   1       62     12     5      87000          0    0       \n",
       "3   0        1   1       45     12     8      77300          0    0       \n",
       "⋮   ⋮        ⋮   ⋮       ⋮      ⋮      ⋮      ⋮              ⋮    ⋮       \n",
       "485 0        1   0       38     12      6     65000          0    0       \n",
       "486 0        1   0       60     12     12     84000          1    0       \n",
       "487 0        0   0       32     12      5     45000          0    0       \n",
       "    Mo/age ⋯ SectionD Childsex Childage/Mon Birtorder Birtinterva HealthStatu\n",
       "1   30     ⋯ 0        1        11           2         22          1          \n",
       "2   32     ⋯ 0        0        36           1          0          1          \n",
       "3   35     ⋯ 0        1        34           5         56          1          \n",
       "⋮   ⋮      ⋱ ⋮        ⋮        ⋮            ⋮         ⋮           ⋮          \n",
       "485 30     ⋯ 0        0        22           4         38          1          \n",
       "486 29     ⋯ 0        1        30           2         24          1          \n",
       "487 29     ⋯ 0        0        15           3         18          1          \n",
       "    NoVac AllVacc SectionE NutritnStat\n",
       "1   0     1       0        1          \n",
       "2   0     1       0        1          \n",
       "3   0     1       0        1          \n",
       "⋮   ⋮     ⋮       ⋮        ⋮          \n",
       "485 0     1       0        1          \n",
       "486 0     1       0        0          \n",
       "487 0     1       0        1          "
      ]
     },
     "metadata": {},
     "output_type": "display_data"
    }
   ],
   "source": [
    "malnutrition_data <- read_tsv(\"/home/jupyter/group_project/Child's malnutrition Data note.tab\")\n",
    "malnutrition_data"
   ]
  },
  {
   "cell_type": "code",
   "execution_count": null,
   "metadata": {},
   "outputs": [],
   "source": []
  }
 ],
 "metadata": {
  "kernelspec": {
   "display_name": "R",
   "language": "R",
   "name": "ir"
  },
  "language_info": {
   "codemirror_mode": "r",
   "file_extension": ".r",
   "mimetype": "text/x-r-source",
   "name": "R",
   "pygments_lexer": "r",
   "version": "4.0.0"
  }
 },
 "nbformat": 4,
 "nbformat_minor": 4
}
