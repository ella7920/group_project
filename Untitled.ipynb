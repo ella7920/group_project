{
 "cells": [
  {
   "cell_type": "code",
   "execution_count": 1,
   "metadata": {},
   "outputs": [
    {
     "name": "stderr",
     "output_type": "stream",
     "text": [
      "── \u001b[1mAttaching packages\u001b[22m ─────────────────────────────────────── tidyverse 1.3.0 ──\n",
      "\n",
      "\u001b[32m✔\u001b[39m \u001b[34mggplot2\u001b[39m 3.3.2     \u001b[32m✔\u001b[39m \u001b[34mpurrr  \u001b[39m 0.3.4\n",
      "\u001b[32m✔\u001b[39m \u001b[34mtibble \u001b[39m 3.0.3     \u001b[32m✔\u001b[39m \u001b[34mdplyr  \u001b[39m 1.0.2\n",
      "\u001b[32m✔\u001b[39m \u001b[34mtidyr  \u001b[39m 1.1.2     \u001b[32m✔\u001b[39m \u001b[34mstringr\u001b[39m 1.4.0\n",
      "\u001b[32m✔\u001b[39m \u001b[34mreadr  \u001b[39m 1.3.1     \u001b[32m✔\u001b[39m \u001b[34mforcats\u001b[39m 0.5.0\n",
      "\n",
      "Warning message:\n",
      "“package ‘ggplot2’ was built under R version 4.0.1”\n",
      "Warning message:\n",
      "“package ‘tibble’ was built under R version 4.0.2”\n",
      "Warning message:\n",
      "“package ‘tidyr’ was built under R version 4.0.2”\n",
      "Warning message:\n",
      "“package ‘dplyr’ was built under R version 4.0.2”\n",
      "── \u001b[1mConflicts\u001b[22m ────────────────────────────────────────── tidyverse_conflicts() ──\n",
      "\u001b[31m✖\u001b[39m \u001b[34mdplyr\u001b[39m::\u001b[32mfilter()\u001b[39m masks \u001b[34mstats\u001b[39m::filter()\n",
      "\u001b[31m✖\u001b[39m \u001b[34mdplyr\u001b[39m::\u001b[32mlag()\u001b[39m    masks \u001b[34mstats\u001b[39m::lag()\n",
      "\n",
      "Warning message:\n",
      "“package ‘tidymodels’ was built under R version 4.0.2”\n",
      "── \u001b[1mAttaching packages\u001b[22m ────────────────────────────────────── tidymodels 0.1.1 ──\n",
      "\n",
      "\u001b[32m✔\u001b[39m \u001b[34mbroom    \u001b[39m 0.7.0      \u001b[32m✔\u001b[39m \u001b[34mrecipes  \u001b[39m 0.1.13\n",
      "\u001b[32m✔\u001b[39m \u001b[34mdials    \u001b[39m 0.0.9      \u001b[32m✔\u001b[39m \u001b[34mrsample  \u001b[39m 0.0.7 \n",
      "\u001b[32m✔\u001b[39m \u001b[34minfer    \u001b[39m 0.5.4      \u001b[32m✔\u001b[39m \u001b[34mtune     \u001b[39m 0.1.1 \n",
      "\u001b[32m✔\u001b[39m \u001b[34mmodeldata\u001b[39m 0.0.2      \u001b[32m✔\u001b[39m \u001b[34mworkflows\u001b[39m 0.2.0 \n",
      "\u001b[32m✔\u001b[39m \u001b[34mparsnip  \u001b[39m 0.1.3      \u001b[32m✔\u001b[39m \u001b[34myardstick\u001b[39m 0.0.7 \n",
      "\n",
      "Warning message:\n",
      "“package ‘broom’ was built under R version 4.0.2”\n",
      "Warning message:\n",
      "“package ‘dials’ was built under R version 4.0.2”\n",
      "Warning message:\n",
      "“package ‘infer’ was built under R version 4.0.3”\n",
      "Warning message:\n",
      "“package ‘modeldata’ was built under R version 4.0.1”\n",
      "Warning message:\n",
      "“package ‘parsnip’ was built under R version 4.0.2”\n",
      "Warning message:\n",
      "“package ‘recipes’ was built under R version 4.0.1”\n",
      "Warning message:\n",
      "“package ‘tune’ was built under R version 4.0.2”\n",
      "Warning message:\n",
      "“package ‘workflows’ was built under R version 4.0.2”\n",
      "Warning message:\n",
      "“package ‘yardstick’ was built under R version 4.0.2”\n",
      "── \u001b[1mConflicts\u001b[22m ───────────────────────────────────────── tidymodels_conflicts() ──\n",
      "\u001b[31m✖\u001b[39m \u001b[34mscales\u001b[39m::\u001b[32mdiscard()\u001b[39m masks \u001b[34mpurrr\u001b[39m::discard()\n",
      "\u001b[31m✖\u001b[39m \u001b[34mdplyr\u001b[39m::\u001b[32mfilter()\u001b[39m   masks \u001b[34mstats\u001b[39m::filter()\n",
      "\u001b[31m✖\u001b[39m \u001b[34mrecipes\u001b[39m::\u001b[32mfixed()\u001b[39m  masks \u001b[34mstringr\u001b[39m::fixed()\n",
      "\u001b[31m✖\u001b[39m \u001b[34mdplyr\u001b[39m::\u001b[32mlag()\u001b[39m      masks \u001b[34mstats\u001b[39m::lag()\n",
      "\u001b[31m✖\u001b[39m \u001b[34myardstick\u001b[39m::\u001b[32mspec()\u001b[39m masks \u001b[34mreadr\u001b[39m::spec()\n",
      "\u001b[31m✖\u001b[39m \u001b[34mrecipes\u001b[39m::\u001b[32mstep()\u001b[39m   masks \u001b[34mstats\u001b[39m::step()\n",
      "\n",
      "Warning message in file(filename, \"r\", encoding = encoding):\n",
      "“cannot open file 'tests.R': No such file or directory”\n"
     ]
    },
    {
     "ename": "ERROR",
     "evalue": "Error in file(filename, \"r\", encoding = encoding): cannot open the connection\n",
     "output_type": "error",
     "traceback": [
      "Error in file(filename, \"r\", encoding = encoding): cannot open the connection\nTraceback:\n",
      "1. source(\"tests.R\")",
      "2. file(filename, \"r\", encoding = encoding)"
     ]
    }
   ],
   "source": [
    "library(tidyverse)\n",
    "library(repr)\n",
    "library(tidymodels)\n",
    "options(repr.matrix.max.rows = 6)\n",
    "source('tests.R')\n",
    "source('cleanup.R')"
   ]
  },
  {
   "cell_type": "markdown",
   "metadata": {},
   "source": [
    " Underlying Causes of Child Malnutrition in SouthWest Nigeria "
   ]
  },
  {
   "cell_type": "markdown",
   "metadata": {},
   "source": [
    "Most prevalent in developing countries such as Nigeria, child malnutrition is commonplace and unavoidable. 1 in 4 children under 5 is considered to be malnourished or stunted. This hinders their growth and can be damaging to the development of their brain. A survey taken in May of 2020 can be accessed on the Harvard Database regarding Abigail Adeyonu’s research on determinants of malnutrition. A questionnaire was passed out to families of southwest Nigeria who had children under 5. Many questions were asked, including but not limited to the categories of the family’s socioeconomic characteristics, the mother’s characteristics, background information of the community, and the child’s characteristics, namely their nutritional status.  Nutritional status is represented as: 1 = well-nourished, 2 = at risk, 0 = malnourished.  While many factors are present that can be used to predict the child’s nutritional status, we will be focusing on the size of the household and the household’s monthly expenditures. The question we will be answering is: can we use classification to predict the nutritional status of a child in southwest Nigeria using their household size and monthly household expenditure?"
   ]
  },
  {
   "cell_type": "markdown",
   "metadata": {},
   "source": [
    "Data analysis will be done on the columns household size and monthly household expenditure, both of these will be used to predict the child’s malnutrition status. The data will be standardized so that we can accurately predict the child’s nutritional status. "
   ]
  },
  {
   "cell_type": "code",
   "execution_count": 8,
   "metadata": {},
   "outputs": [
    {
     "name": "stderr",
     "output_type": "stream",
     "text": [
      "Parsed with column specification:\n",
      "cols(\n",
      "  .default = col_double()\n",
      ")\n",
      "\n",
      "See spec(...) for full column specifications.\n",
      "\n"
     ]
    },
    {
     "data": {
      "text/html": [
       "<table>\n",
       "<caption>A tibble: 487 × 3</caption>\n",
       "<thead>\n",
       "\t<tr><th scope=col>Hhsize</th><th scope=col>ExM</th><th scope=col>NutritnStat</th></tr>\n",
       "\t<tr><th scope=col>&lt;dbl&gt;</th><th scope=col>&lt;dbl&gt;</th><th scope=col>&lt;dbl&gt;</th></tr>\n",
       "</thead>\n",
       "<tbody>\n",
       "\t<tr><td>7</td><td>69800</td><td>1</td></tr>\n",
       "\t<tr><td>5</td><td>87000</td><td>1</td></tr>\n",
       "\t<tr><td>8</td><td>77300</td><td>1</td></tr>\n",
       "\t<tr><td>⋮</td><td>⋮</td><td>⋮</td></tr>\n",
       "\t<tr><td> 6</td><td>65000</td><td>1</td></tr>\n",
       "\t<tr><td>12</td><td>84000</td><td>0</td></tr>\n",
       "\t<tr><td> 5</td><td>45000</td><td>1</td></tr>\n",
       "</tbody>\n",
       "</table>\n"
      ],
      "text/latex": [
       "A tibble: 487 × 3\n",
       "\\begin{tabular}{lll}\n",
       " Hhsize & ExM & NutritnStat\\\\\n",
       " <dbl> & <dbl> & <dbl>\\\\\n",
       "\\hline\n",
       "\t 7 & 69800 & 1\\\\\n",
       "\t 5 & 87000 & 1\\\\\n",
       "\t 8 & 77300 & 1\\\\\n",
       "\t ⋮ & ⋮ & ⋮\\\\\n",
       "\t  6 & 65000 & 1\\\\\n",
       "\t 12 & 84000 & 0\\\\\n",
       "\t  5 & 45000 & 1\\\\\n",
       "\\end{tabular}\n"
      ],
      "text/markdown": [
       "\n",
       "A tibble: 487 × 3\n",
       "\n",
       "| Hhsize &lt;dbl&gt; | ExM &lt;dbl&gt; | NutritnStat &lt;dbl&gt; |\n",
       "|---|---|---|\n",
       "| 7 | 69800 | 1 |\n",
       "| 5 | 87000 | 1 |\n",
       "| 8 | 77300 | 1 |\n",
       "| ⋮ | ⋮ | ⋮ |\n",
       "|  6 | 65000 | 1 |\n",
       "| 12 | 84000 | 0 |\n",
       "|  5 | 45000 | 1 |\n",
       "\n"
      ],
      "text/plain": [
       "    Hhsize ExM   NutritnStat\n",
       "1   7      69800 1          \n",
       "2   5      87000 1          \n",
       "3   8      77300 1          \n",
       "⋮   ⋮      ⋮     ⋮          \n",
       "485  6     65000 1          \n",
       "486 12     84000 0          \n",
       "487  5     45000 1          "
      ]
     },
     "metadata": {},
     "output_type": "display_data"
    }
   ],
   "source": [
    "malnutrition_data <- read_tsv(url(\"https://dataverse.harvard.edu/api/access/datafile/:persistentId?persistentId=doi:10.7910/DVN/FFNBFT/0BXHJ8\"))%>% \n",
    "                    select(\"Hhsize\", \"Expenditur/mon\", \"NutritnStat\") %>% rename(\"ExM\" = \"Expenditur/mon\")\n",
    "malnutrition_data"
   ]
  },
  {
   "cell_type": "markdown",
   "metadata": {},
   "source": [
    "Now we first see how many children are in each nutritional status. "
   ]
  },
  {
   "cell_type": "code",
   "execution_count": 9,
   "metadata": {},
   "outputs": [
    {
     "name": "stderr",
     "output_type": "stream",
     "text": [
      "`summarise()` ungrouping output (override with `.groups` argument)\n",
      "\n"
     ]
    },
    {
     "data": {
      "text/html": [
       "<table>\n",
       "<caption>A tibble: 3 × 2</caption>\n",
       "<thead>\n",
       "\t<tr><th scope=col>NutritnStat</th><th scope=col>count</th></tr>\n",
       "\t<tr><th scope=col>&lt;dbl&gt;</th><th scope=col>&lt;int&gt;</th></tr>\n",
       "</thead>\n",
       "<tbody>\n",
       "\t<tr><td>0</td><td>187</td></tr>\n",
       "\t<tr><td>1</td><td>290</td></tr>\n",
       "\t<tr><td>2</td><td> 10</td></tr>\n",
       "</tbody>\n",
       "</table>\n"
      ],
      "text/latex": [
       "A tibble: 3 × 2\n",
       "\\begin{tabular}{ll}\n",
       " NutritnStat & count\\\\\n",
       " <dbl> & <int>\\\\\n",
       "\\hline\n",
       "\t 0 & 187\\\\\n",
       "\t 1 & 290\\\\\n",
       "\t 2 &  10\\\\\n",
       "\\end{tabular}\n"
      ],
      "text/markdown": [
       "\n",
       "A tibble: 3 × 2\n",
       "\n",
       "| NutritnStat &lt;dbl&gt; | count &lt;int&gt; |\n",
       "|---|---|\n",
       "| 0 | 187 |\n",
       "| 1 | 290 |\n",
       "| 2 |  10 |\n",
       "\n"
      ],
      "text/plain": [
       "  NutritnStat count\n",
       "1 0           187  \n",
       "2 1           290  \n",
       "3 2            10  "
      ]
     },
     "metadata": {},
     "output_type": "display_data"
    }
   ],
   "source": [
    "malnutrition_count <- malnutrition_data %>% group_by(NutritnStat) %>% \n",
    "                     summarize(count=n())\n",
    "malnutrition_count"
   ]
  },
  {
   "cell_type": "markdown",
   "metadata": {},
   "source": [
    "Because there are only ten children that are marked \"at-risk\" and this category is not necessary for our classification of malnourished vs healthy, we are going to get rid of these observations so that the count of each variable is closer to equal and the classifier can be more accurate."
   ]
  },
  {
   "cell_type": "code",
   "execution_count": 10,
   "metadata": {},
   "outputs": [
    {
     "data": {
      "text/html": [
       "<table>\n",
       "<caption>A tibble: 477 × 3</caption>\n",
       "<thead>\n",
       "\t<tr><th scope=col>Hhsize</th><th scope=col>ExM</th><th scope=col>NutritnStat</th></tr>\n",
       "\t<tr><th scope=col>&lt;dbl&gt;</th><th scope=col>&lt;dbl&gt;</th><th scope=col>&lt;fct&gt;</th></tr>\n",
       "</thead>\n",
       "<tbody>\n",
       "\t<tr><td>7</td><td>69800</td><td>1</td></tr>\n",
       "\t<tr><td>5</td><td>87000</td><td>1</td></tr>\n",
       "\t<tr><td>8</td><td>77300</td><td>1</td></tr>\n",
       "\t<tr><td>⋮</td><td>⋮</td><td>⋮</td></tr>\n",
       "\t<tr><td> 6</td><td>65000</td><td>1</td></tr>\n",
       "\t<tr><td>12</td><td>84000</td><td>0</td></tr>\n",
       "\t<tr><td> 5</td><td>45000</td><td>1</td></tr>\n",
       "</tbody>\n",
       "</table>\n"
      ],
      "text/latex": [
       "A tibble: 477 × 3\n",
       "\\begin{tabular}{lll}\n",
       " Hhsize & ExM & NutritnStat\\\\\n",
       " <dbl> & <dbl> & <fct>\\\\\n",
       "\\hline\n",
       "\t 7 & 69800 & 1\\\\\n",
       "\t 5 & 87000 & 1\\\\\n",
       "\t 8 & 77300 & 1\\\\\n",
       "\t ⋮ & ⋮ & ⋮\\\\\n",
       "\t  6 & 65000 & 1\\\\\n",
       "\t 12 & 84000 & 0\\\\\n",
       "\t  5 & 45000 & 1\\\\\n",
       "\\end{tabular}\n"
      ],
      "text/markdown": [
       "\n",
       "A tibble: 477 × 3\n",
       "\n",
       "| Hhsize &lt;dbl&gt; | ExM &lt;dbl&gt; | NutritnStat &lt;fct&gt; |\n",
       "|---|---|---|\n",
       "| 7 | 69800 | 1 |\n",
       "| 5 | 87000 | 1 |\n",
       "| 8 | 77300 | 1 |\n",
       "| ⋮ | ⋮ | ⋮ |\n",
       "|  6 | 65000 | 1 |\n",
       "| 12 | 84000 | 0 |\n",
       "|  5 | 45000 | 1 |\n",
       "\n"
      ],
      "text/plain": [
       "    Hhsize ExM   NutritnStat\n",
       "1   7      69800 1          \n",
       "2   5      87000 1          \n",
       "3   8      77300 1          \n",
       "⋮   ⋮      ⋮     ⋮          \n",
       "475  6     65000 1          \n",
       "476 12     84000 0          \n",
       "477  5     45000 1          "
      ]
     },
     "metadata": {},
     "output_type": "display_data"
    }
   ],
   "source": [
    "malnutrition_data_2 <- malnutrition_data %>% filter(NutritnStat<2) %>% mutate(NutritnStat = as_factor(NutritnStat))\n",
    "malnutrition_data_2"
   ]
  },
  {
   "cell_type": "markdown",
   "metadata": {},
   "source": [
    "This is our data in a tidy format. Now we will split the data into our training set. We chose 75% of our data to be in training so that we can use more points into training the dataset accurately. 25% of the data will be used for testing so we evaluate the accuracy of our training."
   ]
  },
  {
   "cell_type": "code",
   "execution_count": 11,
   "metadata": {},
   "outputs": [
    {
     "data": {
      "text/html": [
       "<table>\n",
       "<caption>A tibble: 359 × 3</caption>\n",
       "<thead>\n",
       "\t<tr><th scope=col>Hhsize</th><th scope=col>ExM</th><th scope=col>NutritnStat</th></tr>\n",
       "\t<tr><th scope=col>&lt;dbl&gt;</th><th scope=col>&lt;dbl&gt;</th><th scope=col>&lt;fct&gt;</th></tr>\n",
       "</thead>\n",
       "<tbody>\n",
       "\t<tr><td>5</td><td>87000</td><td>1</td></tr>\n",
       "\t<tr><td>8</td><td>77300</td><td>1</td></tr>\n",
       "\t<tr><td>8</td><td>90000</td><td>1</td></tr>\n",
       "\t<tr><td>⋮</td><td>⋮</td><td>⋮</td></tr>\n",
       "\t<tr><td> 3</td><td>47900</td><td>1</td></tr>\n",
       "\t<tr><td>12</td><td>84000</td><td>0</td></tr>\n",
       "\t<tr><td> 5</td><td>45000</td><td>1</td></tr>\n",
       "</tbody>\n",
       "</table>\n"
      ],
      "text/latex": [
       "A tibble: 359 × 3\n",
       "\\begin{tabular}{lll}\n",
       " Hhsize & ExM & NutritnStat\\\\\n",
       " <dbl> & <dbl> & <fct>\\\\\n",
       "\\hline\n",
       "\t 5 & 87000 & 1\\\\\n",
       "\t 8 & 77300 & 1\\\\\n",
       "\t 8 & 90000 & 1\\\\\n",
       "\t ⋮ & ⋮ & ⋮\\\\\n",
       "\t  3 & 47900 & 1\\\\\n",
       "\t 12 & 84000 & 0\\\\\n",
       "\t  5 & 45000 & 1\\\\\n",
       "\\end{tabular}\n"
      ],
      "text/markdown": [
       "\n",
       "A tibble: 359 × 3\n",
       "\n",
       "| Hhsize &lt;dbl&gt; | ExM &lt;dbl&gt; | NutritnStat &lt;fct&gt; |\n",
       "|---|---|---|\n",
       "| 5 | 87000 | 1 |\n",
       "| 8 | 77300 | 1 |\n",
       "| 8 | 90000 | 1 |\n",
       "| ⋮ | ⋮ | ⋮ |\n",
       "|  3 | 47900 | 1 |\n",
       "| 12 | 84000 | 0 |\n",
       "|  5 | 45000 | 1 |\n",
       "\n"
      ],
      "text/plain": [
       "    Hhsize ExM   NutritnStat\n",
       "1   5      87000 1          \n",
       "2   8      77300 1          \n",
       "3   8      90000 1          \n",
       "⋮   ⋮      ⋮     ⋮          \n",
       "357  3     47900 1          \n",
       "358 12     84000 0          \n",
       "359  5     45000 1          "
      ]
     },
     "metadata": {},
     "output_type": "display_data"
    },
    {
     "data": {
      "text/html": [
       "<table>\n",
       "<caption>A tibble: 118 × 3</caption>\n",
       "<thead>\n",
       "\t<tr><th scope=col>Hhsize</th><th scope=col>ExM</th><th scope=col>NutritnStat</th></tr>\n",
       "\t<tr><th scope=col>&lt;dbl&gt;</th><th scope=col>&lt;dbl&gt;</th><th scope=col>&lt;fct&gt;</th></tr>\n",
       "</thead>\n",
       "<tbody>\n",
       "\t<tr><td> 7</td><td>69800</td><td>1</td></tr>\n",
       "\t<tr><td>28</td><td>85000</td><td>0</td></tr>\n",
       "\t<tr><td> 6</td><td>20000</td><td>1</td></tr>\n",
       "\t<tr><td>⋮</td><td>⋮</td><td>⋮</td></tr>\n",
       "\t<tr><td>5</td><td>65000</td><td>1</td></tr>\n",
       "\t<tr><td>8</td><td>55000</td><td>0</td></tr>\n",
       "\t<tr><td>6</td><td>65000</td><td>1</td></tr>\n",
       "</tbody>\n",
       "</table>\n"
      ],
      "text/latex": [
       "A tibble: 118 × 3\n",
       "\\begin{tabular}{lll}\n",
       " Hhsize & ExM & NutritnStat\\\\\n",
       " <dbl> & <dbl> & <fct>\\\\\n",
       "\\hline\n",
       "\t  7 & 69800 & 1\\\\\n",
       "\t 28 & 85000 & 0\\\\\n",
       "\t  6 & 20000 & 1\\\\\n",
       "\t ⋮ & ⋮ & ⋮\\\\\n",
       "\t 5 & 65000 & 1\\\\\n",
       "\t 8 & 55000 & 0\\\\\n",
       "\t 6 & 65000 & 1\\\\\n",
       "\\end{tabular}\n"
      ],
      "text/markdown": [
       "\n",
       "A tibble: 118 × 3\n",
       "\n",
       "| Hhsize &lt;dbl&gt; | ExM &lt;dbl&gt; | NutritnStat &lt;fct&gt; |\n",
       "|---|---|---|\n",
       "|  7 | 69800 | 1 |\n",
       "| 28 | 85000 | 0 |\n",
       "|  6 | 20000 | 1 |\n",
       "| ⋮ | ⋮ | ⋮ |\n",
       "| 5 | 65000 | 1 |\n",
       "| 8 | 55000 | 0 |\n",
       "| 6 | 65000 | 1 |\n",
       "\n"
      ],
      "text/plain": [
       "    Hhsize ExM   NutritnStat\n",
       "1    7     69800 1          \n",
       "2   28     85000 0          \n",
       "3    6     20000 1          \n",
       "⋮   ⋮      ⋮     ⋮          \n",
       "116 5      65000 1          \n",
       "117 8      55000 0          \n",
       "118 6      65000 1          "
      ]
     },
     "metadata": {},
     "output_type": "display_data"
    }
   ],
   "source": [
    "set.seed(1)\n",
    "malnutrition_split <- initial_split(malnutrition_data_2, prop = 0.75, strata = NutritnStat)\n",
    "malnutrition_train <- training(malnutrition_split)\n",
    "malnutrition_test <- testing(malnutrition_split)\n",
    "malnutrition_train\n",
    "malnutrition_test"
   ]
  },
  {
   "cell_type": "markdown",
   "metadata": {},
   "source": [
    "Then using the training data we will create a scatterplot of household size against monthly household expenditure, color coding data points according to malnutrition index. Later, we will use K-nearest neighbors to predict the child’s nutritional status. We decided to use K-nearest neighbors because nutritional status is a category, therefore we cannot use linear regression. Clustering also would not apply in this case because we don't need to split the data into groups."
   ]
  },
  {
   "cell_type": "code",
   "execution_count": 12,
   "metadata": {},
   "outputs": [
    {
     "data": {
      "image/png": "[encoded data removed]",
      "text/plain": [
       "plot without title"
      ]
     },
     "metadata": {
      "image/png": {
       "height": 600,
       "width": 600
      }
     },
     "output_type": "display_data"
    }
   ],
   "source": [
    "set.seed(1)\n",
    "options(repr.plot.width = 10, repr.plot.height = 10)\n",
    "malnutrition_train_graph <- malnutrition_train %>% ggplot(aes(x = Hhsize, y = ExM, color = NutritnStat)) +\n",
    "                            geom_point() + ggtitle(\"Nutritional Status of Children Based on Household Size and Monthly Household Expenditures\") +\n",
    "                            labs(x=\"Household Size\", y=\"Monthly Household Expenditure\", color=\"Nutritional Status\") + \n",
    "                            theme(text = element_text(size=20))\n",
    "malnutrition_train_graph"
   ]
  },
  {
   "cell_type": "markdown",
   "metadata": {},
   "source": [
    "We expect to see a greater proportion of malnutrition in children within large families with low monthly household expenditure. Essentially, the greater the ratio between monthly household expenditures and household size, the more likely the child is to be well-nourished. Those with a low ratio (low monthly household expenditure and high family size) will have higher rates of being malnourished. However, what we see with the graph above is that, regardless of monthly expenditure, children who were considered \"well-nourished\" were only found in families with a size less than 9. Malnourished children were found in all family sizes and a general tendency for a higher monthly expenditure with an increase in family size.  \n",
    "\n",
    "Using this knowledge, we can produce and implement technologies and awareness that allow us to begin helping these families feed their children. We could suggest the optimum family size and help provide more personalized resources to each family to aid in preventing child malnutrition. \n",
    "\n",
    "Some questions that this could generate:\n",
    "Is having a larger household size more beneficial to third-world country families with low monthly household expenditure?\n",
    "Would looking at different age groups or different locations yield different results? \n",
    "What strategies can we use to better help these families feed their children?\n",
    "What is the optimum household size to monthly expenditure ratio?"
   ]
  },
  {
   "cell_type": "code",
   "execution_count": 13,
   "metadata": {},
   "outputs": [],
   "source": [
    "knn_spec <- nearest_neighbor(weight_func = \"rectangular\", \n",
    "                             neighbors = tune()) %>%\n",
    "  set_engine(\"kknn\") %>%\n",
    "  set_mode(\"classification\")"
   ]
  },
  {
   "cell_type": "code",
   "execution_count": 32,
   "metadata": {},
   "outputs": [],
   "source": [
    "k_vals <- tibble(neighbors = seq(from = 1, to = 50))\n",
    "\n",
    "malnutrition_vfold <- vfold_cv(malnutrition_train, v = 5, strata = NutritnStat)"
   ]
  },
  {
   "cell_type": "code",
   "execution_count": 33,
   "metadata": {},
   "outputs": [],
   "source": [
    "recipe_hhs <- recipe(NutritnStat ~ Hhsize, data=malnutrition_train) %>% \n",
    "step_scale(all_numeric()) %>% step_center(all_numeric())"
   ]
  },
  {
   "cell_type": "code",
   "execution_count": 34,
   "metadata": {},
   "outputs": [],
   "source": [
    "knn_results <- workflow() %>%\n",
    "  add_recipe(recipe_hhs) %>%\n",
    "  add_model(knn_spec) %>%\n",
    "  tune_grid(resamples = malnutrition_vfold, grid = k_vals) %>%\n",
    "  collect_metrics()"
   ]
  },
  {
   "cell_type": "code",
   "execution_count": 35,
   "metadata": {},
   "outputs": [
    {
     "data": {
      "text/html": [
       "<table>\n",
       "<caption>A tibble: 50 × 7</caption>\n",
       "<thead>\n",
       "\t<tr><th scope=col>neighbors</th><th scope=col>.metric</th><th scope=col>.estimator</th><th scope=col>mean</th><th scope=col>n</th><th scope=col>std_err</th><th scope=col>.config</th></tr>\n",
       "\t<tr><th scope=col>&lt;int&gt;</th><th scope=col>&lt;chr&gt;</th><th scope=col>&lt;chr&gt;</th><th scope=col>&lt;dbl&gt;</th><th scope=col>&lt;int&gt;</th><th scope=col>&lt;dbl&gt;</th><th scope=col>&lt;chr&gt;</th></tr>\n",
       "</thead>\n",
       "<tbody>\n",
       "\t<tr><td>1</td><td>accuracy</td><td>binary</td><td>0.7437600</td><td>5</td><td>0.02586749</td><td>Model01</td></tr>\n",
       "\t<tr><td>2</td><td>accuracy</td><td>binary</td><td>0.7440655</td><td>5</td><td>0.02441321</td><td>Model02</td></tr>\n",
       "\t<tr><td>3</td><td>accuracy</td><td>binary</td><td>0.8021411</td><td>5</td><td>0.02225996</td><td>Model03</td></tr>\n",
       "\t<tr><td>⋮</td><td>⋮</td><td>⋮</td><td>⋮</td><td>⋮</td><td>⋮</td><td>⋮</td></tr>\n",
       "\t<tr><td>48</td><td>accuracy</td><td>binary</td><td>0.7964280</td><td>5</td><td>0.01495450</td><td>Model48</td></tr>\n",
       "\t<tr><td>49</td><td>accuracy</td><td>binary</td><td>0.8105125</td><td>5</td><td>0.01638993</td><td>Model49</td></tr>\n",
       "\t<tr><td>50</td><td>accuracy</td><td>binary</td><td>0.7964280</td><td>5</td><td>0.01495450</td><td>Model50</td></tr>\n",
       "</tbody>\n",
       "</table>\n"
      ],
      "text/latex": [
       "A tibble: 50 × 7\n",
       "\\begin{tabular}{lllllll}\n",
       " neighbors & .metric & .estimator & mean & n & std\\_err & .config\\\\\n",
       " <int> & <chr> & <chr> & <dbl> & <int> & <dbl> & <chr>\\\\\n",
       "\\hline\n",
       "\t 1 & accuracy & binary & 0.7437600 & 5 & 0.02586749 & Model01\\\\\n",
       "\t 2 & accuracy & binary & 0.7440655 & 5 & 0.02441321 & Model02\\\\\n",
       "\t 3 & accuracy & binary & 0.8021411 & 5 & 0.02225996 & Model03\\\\\n",
       "\t ⋮ & ⋮ & ⋮ & ⋮ & ⋮ & ⋮ & ⋮\\\\\n",
       "\t 48 & accuracy & binary & 0.7964280 & 5 & 0.01495450 & Model48\\\\\n",
       "\t 49 & accuracy & binary & 0.8105125 & 5 & 0.01638993 & Model49\\\\\n",
       "\t 50 & accuracy & binary & 0.7964280 & 5 & 0.01495450 & Model50\\\\\n",
       "\\end{tabular}\n"
      ],
      "text/markdown": [
       "\n",
       "A tibble: 50 × 7\n",
       "\n",
       "| neighbors &lt;int&gt; | .metric &lt;chr&gt; | .estimator &lt;chr&gt; | mean &lt;dbl&gt; | n &lt;int&gt; | std_err &lt;dbl&gt; | .config &lt;chr&gt; |\n",
       "|---|---|---|---|---|---|---|\n",
       "| 1 | accuracy | binary | 0.7437600 | 5 | 0.02586749 | Model01 |\n",
       "| 2 | accuracy | binary | 0.7440655 | 5 | 0.02441321 | Model02 |\n",
       "| 3 | accuracy | binary | 0.8021411 | 5 | 0.02225996 | Model03 |\n",
       "| ⋮ | ⋮ | ⋮ | ⋮ | ⋮ | ⋮ | ⋮ |\n",
       "| 48 | accuracy | binary | 0.7964280 | 5 | 0.01495450 | Model48 |\n",
       "| 49 | accuracy | binary | 0.8105125 | 5 | 0.01638993 | Model49 |\n",
       "| 50 | accuracy | binary | 0.7964280 | 5 | 0.01495450 | Model50 |\n",
       "\n"
      ],
      "text/plain": [
       "   neighbors .metric  .estimator mean      n std_err    .config\n",
       "1  1         accuracy binary     0.7437600 5 0.02586749 Model01\n",
       "2  2         accuracy binary     0.7440655 5 0.02441321 Model02\n",
       "3  3         accuracy binary     0.8021411 5 0.02225996 Model03\n",
       "⋮  ⋮         ⋮        ⋮          ⋮         ⋮ ⋮          ⋮      \n",
       "48 48        accuracy binary     0.7964280 5 0.01495450 Model48\n",
       "49 49        accuracy binary     0.8105125 5 0.01638993 Model49\n",
       "50 50        accuracy binary     0.7964280 5 0.01495450 Model50"
      ]
     },
     "metadata": {},
     "output_type": "display_data"
    }
   ],
   "source": [
    "accuracies_hhs <- knn_results %>%\n",
    "  filter(.metric == \"accuracy\")\n",
    "accuracies_hhs"
   ]
  },
  {
   "cell_type": "code",
   "execution_count": 36,
   "metadata": {},
   "outputs": [
    {
     "data": {
      "image/png": "[encoded data removed]",
      "text/plain": [
       "plot without title"
      ]
     },
     "metadata": {
      "image/png": {
       "height": 600,
       "width": 600
      }
     },
     "output_type": "display_data"
    }
   ],
   "source": [
    "hhsize_k_plot <- accuracies_hhs %>% ggplot(aes(x=neighbors, y=mean)) + geom_point() + geom_line() +\n",
    "labs(x=\"Neighbours\", y=\"Accuracy\")\n",
    "hhsize_k_plot"
   ]
  },
  {
   "cell_type": "markdown",
   "metadata": {},
   "source": [
    "K=12 looks to be a relatively good fit for our K parameter, lets see its accuracy:"
   ]
  },
  {
   "cell_type": "code",
   "execution_count": 39,
   "metadata": {},
   "outputs": [
    {
     "data": {
      "text/html": [
       "0.816068021523356"
      ],
      "text/latex": [
       "0.816068021523356"
      ],
      "text/markdown": [
       "0.816068021523356"
      ],
      "text/plain": [
       "[1] 0.816068"
      ]
     },
     "metadata": {},
     "output_type": "display_data"
    }
   ],
   "source": [
    "accuracy_hhs <- accuracies_hhs %>% filter(neighbors==12) %>% select(mean) %>% pull()\n",
    "accuracy_hhs"
   ]
  },
  {
   "cell_type": "markdown",
   "metadata": {},
   "source": [
    "Based on the graph above, we can choose 12 to be our K value when predicting with just household size. This is because it has a \n",
    "relatively high accuracy of 81.6%, the accuracy remains relatively unchanged by changing it into a slightly lower or slightly higher k value, and it's not too high of a value that the cost of running it is too much."
   ]
  },
  {
   "cell_type": "code",
   "execution_count": 40,
   "metadata": {},
   "outputs": [
    {
     "data": {
      "text/plain": [
       "          Truth\n",
       "Prediction  0  1\n",
       "         0 26  2\n",
       "         1 20 70"
      ]
     },
     "metadata": {},
     "output_type": "display_data"
    },
    {
     "data": {
      "text/plain": [
       "          Truth\n",
       "Prediction   0   1\n",
       "         0  80   5\n",
       "         1  61 213"
      ]
     },
     "metadata": {},
     "output_type": "display_data"
    },
    {
     "data": {
      "text/html": [
       "0.813559322033898"
      ],
      "text/latex": [
       "0.813559322033898"
      ],
      "text/markdown": [
       "0.813559322033898"
      ],
      "text/plain": [
       "[1] 0.8135593"
      ]
     },
     "metadata": {},
     "output_type": "display_data"
    },
    {
     "data": {
      "text/html": [
       "0.816155988857939"
      ],
      "text/latex": [
       "0.816155988857939"
      ],
      "text/markdown": [
       "0.816155988857939"
      ],
      "text/plain": [
       "[1] 0.816156"
      ]
     },
     "metadata": {},
     "output_type": "display_data"
    }
   ],
   "source": [
    "knn_spec <- nearest_neighbor(weight_func = \"rectangular\", neighbors = 12) %>% \n",
    "  set_engine(\"kknn\") %>% \n",
    "  set_mode(\"classification\")\n",
    "fit_hhs <- workflow() %>% \n",
    "  add_recipe(recipe_hhs) %>% \n",
    "  add_model(knn_spec) %>% \n",
    "  fit(data = malnutrition_train)\n",
    "predictions_hhs <- fit_hhs %>% predict(malnutrition_test) %>% bind_cols(malnutrition_test)\n",
    "confustion_hhs <- predictions_hhs %>% conf_mat(truth=NutritnStat, estimate=.pred_class)\n",
    "confustion_hhs\n",
    "accuracy_hhs <- predictions_hhs %>% metrics(truth=NutritnStat, estimate=.pred_class) %>% \n",
    "filter(.metric=='accuracy') %>% select(.estimate) %>% pull()\n",
    "\n",
    "predictions_hhs_t <- fit_hhs %>% predict(malnutrition_train) %>% bind_cols(malnutrition_train)\n",
    "confustion_hhs_t <- predictions_hhs_t %>% conf_mat(truth=NutritnStat, estimate=.pred_class)\n",
    "confustion_hhs_t\n",
    "accuracy_hhs_t <- predictions_hhs_t %>% metrics(truth=NutritnStat, estimate=.pred_class) %>% \n",
    "filter(.metric=='accuracy') %>% select(.estimate) %>% pull()\n",
    "accuracy_hhs\n",
    "accuracy_hhs_t"
   ]
  },
  {
   "cell_type": "code",
   "execution_count": null,
   "metadata": {},
   "outputs": [],
   "source": []
  },
  {
   "cell_type": "code",
   "execution_count": 29,
   "metadata": {},
   "outputs": [
    {
     "data": {
      "text/plain": [
       "          Truth\n",
       "Prediction  0  1\n",
       "         0 21 10\n",
       "         1 25 62"
      ]
     },
     "metadata": {},
     "output_type": "display_data"
    },
    {
     "data": {
      "text/plain": [
       "          Truth\n",
       "Prediction   0   1\n",
       "         0  63  23\n",
       "         1  78 195"
      ]
     },
     "metadata": {},
     "output_type": "display_data"
    },
    {
     "data": {
      "text/html": [
       "0.703389830508475"
      ],
      "text/latex": [
       "0.703389830508475"
      ],
      "text/markdown": [
       "0.703389830508475"
      ],
      "text/plain": [
       "[1] 0.7033898"
      ]
     },
     "metadata": {},
     "output_type": "display_data"
    },
    {
     "data": {
      "text/html": [
       "0.71866295264624"
      ],
      "text/latex": [
       "0.71866295264624"
      ],
      "text/markdown": [
       "0.71866295264624"
      ],
      "text/plain": [
       "[1] 0.718663"
      ]
     },
     "metadata": {},
     "output_type": "display_data"
    }
   ],
   "source": [
    "knn_spec <- nearest_neighbor(weight_func = \"rectangular\", neighbors = 5) %>% \n",
    "  set_engine(\"kknn\") %>% \n",
    "  set_mode(\"classification\")\n",
    "recipe_hhs <- recipe(NutritnStat ~ ExM, data=malnutrition_train) %>% \n",
    "step_scale(all_numeric()) %>% step_center(all_numeric())\n",
    "fit_hhs <- workflow() %>% \n",
    "  add_recipe(recipe_hhs) %>% \n",
    "  add_model(knn_spec) %>% \n",
    "  fit(data = malnutrition_train)\n",
    "predictions_hhs <- fit_hhs %>% predict(malnutrition_test) %>% bind_cols(malnutrition_test)\n",
    "confustion_hhs <- predictions_hhs %>% conf_mat(truth=NutritnStat, estimate=.pred_class)\n",
    "confustion_hhs\n",
    "accuracy_hhs <- predictions_hhs %>% metrics(truth=NutritnStat, estimate=.pred_class) %>% \n",
    "filter(.metric=='accuracy') %>% select(.estimate) %>% pull()\n",
    "\n",
    "predictions_hhs_t <- fit_hhs %>% predict(malnutrition_train) %>% bind_cols(malnutrition_train)\n",
    "confustion_hhs_t <- predictions_hhs_t %>% conf_mat(truth=NutritnStat, estimate=.pred_class)\n",
    "confustion_hhs_t\n",
    "accuracy_hhs_t <- predictions_hhs_t %>% metrics(truth=NutritnStat, estimate=.pred_class) %>% \n",
    "filter(.metric=='accuracy') %>% select(.estimate) %>% pull()\n",
    "accuracy_hhs\n",
    "accuracy_hhs_t"
   ]
  },
  {
   "cell_type": "code",
   "execution_count": 30,
   "metadata": {},
   "outputs": [
    {
     "data": {
      "text/plain": [
       "          Truth\n",
       "Prediction  0  1\n",
       "         0 30  7\n",
       "         1 16 65"
      ]
     },
     "metadata": {},
     "output_type": "display_data"
    },
    {
     "data": {
      "text/plain": [
       "          Truth\n",
       "Prediction   0   1\n",
       "         0  96   9\n",
       "         1  45 209"
      ]
     },
     "metadata": {},
     "output_type": "display_data"
    },
    {
     "data": {
      "text/html": [
       "0.805084745762712"
      ],
      "text/latex": [
       "0.805084745762712"
      ],
      "text/markdown": [
       "0.805084745762712"
      ],
      "text/plain": [
       "[1] 0.8050847"
      ]
     },
     "metadata": {},
     "output_type": "display_data"
    },
    {
     "data": {
      "text/html": [
       "0.84958217270195"
      ],
      "text/latex": [
       "0.84958217270195"
      ],
      "text/markdown": [
       "0.84958217270195"
      ],
      "text/plain": [
       "[1] 0.8495822"
      ]
     },
     "metadata": {},
     "output_type": "display_data"
    }
   ],
   "source": [
    "knn_spec <- nearest_neighbor(weight_func = \"rectangular\", neighbors = 5) %>% \n",
    "  set_engine(\"kknn\") %>% \n",
    "  set_mode(\"classification\")\n",
    "recipe_hhs <- recipe(NutritnStat ~ ExM + Hhsize, data=malnutrition_train) %>% \n",
    "step_scale(all_numeric()) %>% step_center(all_numeric())\n",
    "fit_hhs <- workflow() %>% \n",
    "  add_recipe(recipe_hhs) %>% \n",
    "  add_model(knn_spec) %>% \n",
    "  fit(data = malnutrition_train)\n",
    "predictions_hhs <- fit_hhs %>% predict(malnutrition_test) %>% bind_cols(malnutrition_test)\n",
    "confustion_hhs <- predictions_hhs %>% conf_mat(truth=NutritnStat, estimate=.pred_class)\n",
    "confustion_hhs\n",
    "accuracy_hhs <- predictions_hhs %>% metrics(truth=NutritnStat, estimate=.pred_class) %>% \n",
    "filter(.metric=='accuracy') %>% select(.estimate) %>% pull()\n",
    "\n",
    "predictions_hhs_t <- fit_hhs %>% predict(malnutrition_train) %>% bind_cols(malnutrition_train)\n",
    "confustion_hhs_t <- predictions_hhs_t %>% conf_mat(truth=NutritnStat, estimate=.pred_class)\n",
    "confustion_hhs_t\n",
    "accuracy_hhs_t <- predictions_hhs_t %>% metrics(truth=NutritnStat, estimate=.pred_class) %>% \n",
    "filter(.metric=='accuracy') %>% select(.estimate) %>% pull()\n",
    "accuracy_hhs\n",
    "accuracy_hhs_t"
   ]
  },
  {
   "cell_type": "code",
   "execution_count": null,
   "metadata": {},
   "outputs": [],
   "source": []
  }
 ],
 "metadata": {
  "kernelspec": {
   "display_name": "R",
   "language": "R",
   "name": "ir"
  },
  "language_info": {
   "codemirror_mode": "r",
   "file_extension": ".r",
   "mimetype": "text/x-r-source",
   "name": "R",
   "pygments_lexer": "r",
   "version": "4.0.0"
  }
 },
 "nbformat": 4,
 "nbformat_minor": 4
}
