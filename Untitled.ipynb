{
 "cells": [
  {
   "cell_type": "code",
   "execution_count": 51,
   "metadata": {},
   "outputs": [
    {
     "name": "stderr",
     "output_type": "stream",
     "text": [
      "Warning message in file(filename, \"r\", encoding = encoding):\n",
      "“cannot open file 'tests.R': No such file or directory”\n"
     ]
    },
    {
     "ename": "ERROR",
     "evalue": "Error in file(filename, \"r\", encoding = encoding): cannot open the connection\n",
     "output_type": "error",
     "traceback": [
      "Error in file(filename, \"r\", encoding = encoding): cannot open the connection\nTraceback:\n",
      "1. source(\"tests.R\")",
      "2. file(filename, \"r\", encoding = encoding)"
     ]
    }
   ],
   "source": [
    "library(tidyverse)\n",
    "library(repr)\n",
    "library(tidymodels)\n",
    "options(repr.matrix.max.rows = 6)\n",
    "source('tests.R')\n",
    "source('cleanup.R')"
   ]
  },
  {
   "cell_type": "markdown",
   "metadata": {},
   "source": [
    "Most prevalent in developing countries, such as Nigeria, child malnutrition is commonplace and unavoidable. 1 in 4 children under 5 are considered to be malnutritioned or stunted. This greatly stunts their growth and damages their brain development. A survey taken in May of 2020 can be accessed on the Harvard Database regarding Abigail Adeyonu’s research on determinants of malnutrition. A questionnaire was passed out to families of southwest Nigeria who had children under 5. Many questions were asked, including but not limited to the categories of the family’s socioeconomic characteristics, the mother’s characteristics, background information of the community, and the child’s characteristics, namely their nutritional status.  Nutritional status is represented as: 1 = well nourished, 2 = at risk, 0 = malnutritioned.  While many factors are present that can be used to predict the child’s nutritional status, we will be focusing on the size of the household and the household’s monthly expenditures. The question we will be answering is: can we use the household size and monthly household expenditure of a family in Southwest Nigeria to predict the nutritional status of the child? "
   ]
  },
  {
   "cell_type": "markdown",
   "metadata": {},
   "source": [
    "Data analysis will be done on the columns household size and monthly household expenditure, both of these will be used to predict the child’s malnutrition status. The data would be standardized so that we can accurately predict the child’s nutritional status. "
   ]
  },
  {
   "cell_type": "code",
   "execution_count": 52,
   "metadata": {},
   "outputs": [
    {
     "ename": "ERROR",
     "evalue": "Error in malnutrition_data <- read_tsv(\"/home/jupyter/group_project/Child's malnutrition Data note.tab\") %>% : could not find function \"<-<-\"\n",
     "output_type": "error",
     "traceback": [
      "Error in malnutrition_data <- read_tsv(\"/home/jupyter/group_project/Child's malnutrition Data note.tab\") %>% : could not find function \"<-<-\"\nTraceback:\n"
     ]
    }
   ],
   "source": [
    "malnutrition_data <- read_tsv(\"/home/jupyter/group_project/Child's malnutrition Data note.tab\") %>% \n",
    "                     select(\"Hhsize\", \"Expenditur/mon\", \"NutritnStat\") %>% col_names = c(\"Hhsize\", \"ExM\", \"NutritnStat\")\n",
    "malnutrition_data"
   ]
  },
  {
   "cell_type": "code",
   "execution_count": 33,
   "metadata": {},
   "outputs": [
    {
     "name": "stderr",
     "output_type": "stream",
     "text": [
      "`summarise()` ungrouping output (override with `.groups` argument)\n",
      "\n"
     ]
    },
    {
     "data": {
      "text/html": [
       "<table>\n",
       "<caption>A tibble: 3 × 2</caption>\n",
       "<thead>\n",
       "\t<tr><th scope=col>NutritnStat</th><th scope=col>count</th></tr>\n",
       "\t<tr><th scope=col>&lt;dbl&gt;</th><th scope=col>&lt;int&gt;</th></tr>\n",
       "</thead>\n",
       "<tbody>\n",
       "\t<tr><td>0</td><td>187</td></tr>\n",
       "\t<tr><td>1</td><td>290</td></tr>\n",
       "\t<tr><td>2</td><td> 10</td></tr>\n",
       "</tbody>\n",
       "</table>\n"
      ],
      "text/latex": [
       "A tibble: 3 × 2\n",
       "\\begin{tabular}{ll}\n",
       " NutritnStat & count\\\\\n",
       " <dbl> & <int>\\\\\n",
       "\\hline\n",
       "\t 0 & 187\\\\\n",
       "\t 1 & 290\\\\\n",
       "\t 2 &  10\\\\\n",
       "\\end{tabular}\n"
      ],
      "text/markdown": [
       "\n",
       "A tibble: 3 × 2\n",
       "\n",
       "| NutritnStat &lt;dbl&gt; | count &lt;int&gt; |\n",
       "|---|---|\n",
       "| 0 | 187 |\n",
       "| 1 | 290 |\n",
       "| 2 |  10 |\n",
       "\n"
      ],
      "text/plain": [
       "  NutritnStat count\n",
       "1 0           187  \n",
       "2 1           290  \n",
       "3 2            10  "
      ]
     },
     "metadata": {},
     "output_type": "display_data"
    }
   ],
   "source": [
    "malnutrition_count <- malnutrition_data %>% group_by(NutritnStat) %>% \n",
    "                     summarize(count=n())\n",
    "malnutrition_count"
   ]
  },
  {
   "cell_type": "markdown",
   "metadata": {},
   "source": [
    "Because there are only 10 children who are marked \"at risk\" and this category is not necessary for our classification of malnutritioned vs healthy, we are going to get rid of these observations so that the count of each vairable are closer to equal"
   ]
  },
  {
   "cell_type": "code",
   "execution_count": 35,
   "metadata": {},
   "outputs": [
    {
     "data": {
      "text/html": [
       "<table>\n",
       "<caption>A tibble: 187 × 3</caption>\n",
       "<thead>\n",
       "\t<tr><th scope=col>Hhsize</th><th scope=col>Expenditur/mon</th><th scope=col>NutritnStat</th></tr>\n",
       "\t<tr><th scope=col>&lt;dbl&gt;</th><th scope=col>&lt;dbl&gt;</th><th scope=col>&lt;fct&gt;</th></tr>\n",
       "</thead>\n",
       "<tbody>\n",
       "\t<tr><td>12</td><td> 85000</td><td>0</td></tr>\n",
       "\t<tr><td>14</td><td> 90000</td><td>0</td></tr>\n",
       "\t<tr><td>13</td><td>120000</td><td>0</td></tr>\n",
       "\t<tr><td>⋮</td><td>⋮</td><td>⋮</td></tr>\n",
       "\t<tr><td> 7</td><td>70000</td><td>0</td></tr>\n",
       "\t<tr><td>12</td><td>95000</td><td>0</td></tr>\n",
       "\t<tr><td>12</td><td>84000</td><td>0</td></tr>\n",
       "</tbody>\n",
       "</table>\n"
      ],
      "text/latex": [
       "A tibble: 187 × 3\n",
       "\\begin{tabular}{lll}\n",
       " Hhsize & Expenditur/mon & NutritnStat\\\\\n",
       " <dbl> & <dbl> & <fct>\\\\\n",
       "\\hline\n",
       "\t 12 &  85000 & 0\\\\\n",
       "\t 14 &  90000 & 0\\\\\n",
       "\t 13 & 120000 & 0\\\\\n",
       "\t ⋮ & ⋮ & ⋮\\\\\n",
       "\t  7 & 70000 & 0\\\\\n",
       "\t 12 & 95000 & 0\\\\\n",
       "\t 12 & 84000 & 0\\\\\n",
       "\\end{tabular}\n"
      ],
      "text/markdown": [
       "\n",
       "A tibble: 187 × 3\n",
       "\n",
       "| Hhsize &lt;dbl&gt; | Expenditur/mon &lt;dbl&gt; | NutritnStat &lt;fct&gt; |\n",
       "|---|---|---|\n",
       "| 12 |  85000 | 0 |\n",
       "| 14 |  90000 | 0 |\n",
       "| 13 | 120000 | 0 |\n",
       "| ⋮ | ⋮ | ⋮ |\n",
       "|  7 | 70000 | 0 |\n",
       "| 12 | 95000 | 0 |\n",
       "| 12 | 84000 | 0 |\n",
       "\n"
      ],
      "text/plain": [
       "    Hhsize Expenditur/mon NutritnStat\n",
       "1   12      85000         0          \n",
       "2   14      90000         0          \n",
       "3   13     120000         0          \n",
       "⋮   ⋮      ⋮              ⋮          \n",
       "185  7     70000          0          \n",
       "186 12     95000          0          \n",
       "187 12     84000          0          "
      ]
     },
     "metadata": {},
     "output_type": "display_data"
    }
   ],
   "source": [
    "malnutrition_data_2 <- malnutrition_data %>% filter(NutritnStat == !2) %>% mutate(NutritnStat = as_factor(NutritnStat))\n",
    "malnutrition_data_2"
   ]
  },
  {
   "cell_type": "markdown",
   "metadata": {},
   "source": [
    "This is our data in a tidy format. Now we will split the data into our training set. "
   ]
  },
  {
   "cell_type": "code",
   "execution_count": 47,
   "metadata": {},
   "outputs": [
    {
     "data": {
      "text/html": [
       "<table>\n",
       "<caption>A tibble: 141 × 3</caption>\n",
       "<thead>\n",
       "\t<tr><th scope=col>Hhsize</th><th scope=col>Expenditur/mon</th><th scope=col>NutritnStat</th></tr>\n",
       "\t<tr><th scope=col>&lt;dbl&gt;</th><th scope=col>&lt;dbl&gt;</th><th scope=col>&lt;fct&gt;</th></tr>\n",
       "</thead>\n",
       "<tbody>\n",
       "\t<tr><td>12</td><td> 85000</td><td>0</td></tr>\n",
       "\t<tr><td>14</td><td> 90000</td><td>0</td></tr>\n",
       "\t<tr><td>13</td><td>120000</td><td>0</td></tr>\n",
       "\t<tr><td>⋮</td><td>⋮</td><td>⋮</td></tr>\n",
       "\t<tr><td> 7</td><td>70000</td><td>0</td></tr>\n",
       "\t<tr><td>12</td><td>95000</td><td>0</td></tr>\n",
       "\t<tr><td>12</td><td>84000</td><td>0</td></tr>\n",
       "</tbody>\n",
       "</table>\n"
      ],
      "text/latex": [
       "A tibble: 141 × 3\n",
       "\\begin{tabular}{lll}\n",
       " Hhsize & Expenditur/mon & NutritnStat\\\\\n",
       " <dbl> & <dbl> & <fct>\\\\\n",
       "\\hline\n",
       "\t 12 &  85000 & 0\\\\\n",
       "\t 14 &  90000 & 0\\\\\n",
       "\t 13 & 120000 & 0\\\\\n",
       "\t ⋮ & ⋮ & ⋮\\\\\n",
       "\t  7 & 70000 & 0\\\\\n",
       "\t 12 & 95000 & 0\\\\\n",
       "\t 12 & 84000 & 0\\\\\n",
       "\\end{tabular}\n"
      ],
      "text/markdown": [
       "\n",
       "A tibble: 141 × 3\n",
       "\n",
       "| Hhsize &lt;dbl&gt; | Expenditur/mon &lt;dbl&gt; | NutritnStat &lt;fct&gt; |\n",
       "|---|---|---|\n",
       "| 12 |  85000 | 0 |\n",
       "| 14 |  90000 | 0 |\n",
       "| 13 | 120000 | 0 |\n",
       "| ⋮ | ⋮ | ⋮ |\n",
       "|  7 | 70000 | 0 |\n",
       "| 12 | 95000 | 0 |\n",
       "| 12 | 84000 | 0 |\n",
       "\n"
      ],
      "text/plain": [
       "    Hhsize Expenditur/mon NutritnStat\n",
       "1   12      85000         0          \n",
       "2   14      90000         0          \n",
       "3   13     120000         0          \n",
       "⋮   ⋮      ⋮              ⋮          \n",
       "139  7     70000          0          \n",
       "140 12     95000          0          \n",
       "141 12     84000          0          "
      ]
     },
     "metadata": {},
     "output_type": "display_data"
    }
   ],
   "source": [
    "set.seed(1)\n",
    "malnutrition_split <- initial_split(malnutrition_data_2, prop = 0.75, strata = NutritnStat)\n",
    "malnutrition_train <- training(malnutrition_split)\n",
    "malnutrition_test <- testing(malnutrition_split)\n",
    "malnutrition_train"
   ]
  },
  {
   "cell_type": "markdown",
   "metadata": {},
   "source": [
    "Here is the visualization of our training data in a scatter plot."
   ]
  },
  {
   "cell_type": "code",
   "execution_count": 49,
   "metadata": {},
   "outputs": [
    {
     "name": "stderr",
     "output_type": "stream",
     "text": [
      "ERROR while rich displaying an object: Error in FUN(X[[i]], ...): object 'Expenditur' not found\n",
      "\n",
      "Traceback:\n",
      "1. FUN(X[[i]], ...)\n",
      "2. tryCatch(withCallingHandlers({\n",
      " .     if (!mime %in% names(repr::mime2repr)) \n",
      " .         stop(\"No repr_* for mimetype \", mime, \" in repr::mime2repr\")\n",
      " .     rpr <- repr::mime2repr[[mime]](obj)\n",
      " .     if (is.null(rpr)) \n",
      " .         return(NULL)\n",
      " .     prepare_content(is.raw(rpr), rpr)\n",
      " . }, error = error_handler), error = outer_handler)\n",
      "3. tryCatchList(expr, classes, parentenv, handlers)\n",
      "4. tryCatchOne(expr, names, parentenv, handlers[[1L]])\n",
      "5. doTryCatch(return(expr), name, parentenv, handler)\n",
      "6. withCallingHandlers({\n",
      " .     if (!mime %in% names(repr::mime2repr)) \n",
      " .         stop(\"No repr_* for mimetype \", mime, \" in repr::mime2repr\")\n",
      " .     rpr <- repr::mime2repr[[mime]](obj)\n",
      " .     if (is.null(rpr)) \n",
      " .         return(NULL)\n",
      " .     prepare_content(is.raw(rpr), rpr)\n",
      " . }, error = error_handler)\n",
      "7. repr::mime2repr[[mime]](obj)\n",
      "8. repr_text.default(obj)\n",
      "9. paste(capture.output(print(obj)), collapse = \"\\n\")\n",
      "10. capture.output(print(obj))\n",
      "11. evalVis(expr)\n",
      "12. withVisible(eval(expr, pf))\n",
      "13. eval(expr, pf)\n",
      "14. eval(expr, pf)\n",
      "15. print(obj)\n",
      "16. print.ggplot(obj)\n",
      "17. ggplot_build(x)\n",
      "18. ggplot_build.ggplot(x)\n",
      "19. by_layer(function(l, d) l$compute_aesthetics(d, plot))\n",
      "20. f(l = layers[[i]], d = data[[i]])\n",
      "21. l$compute_aesthetics(d, plot)\n",
      "22. f(..., self = self)\n",
      "23. scales_add_defaults(plot$scales, data, aesthetics, plot$plot_env)\n",
      "24. lapply(aesthetics[new_aesthetics], eval_tidy, data = data)\n",
      "25. FUN(X[[i]], ...)\n"
     ]
    },
    {
     "data": {
      "image/png": "[encoded data removed]",
      "text/plain": [
       "plot without title"
      ]
     },
     "metadata": {
      "image/png": {
       "height": 420,
       "width": 420
      }
     },
     "output_type": "display_data"
    }
   ],
   "source": [
    "set.seed(1)\n",
    "malnutrition_train_graph <- malnutrition_train %>% ggplot(aes(x = Hhsize, y = ExM, color = NutritnStat)) +\n",
    "                            geom_point() \n",
    "malnutrition_train_graph"
   ]
  },
  {
   "cell_type": "code",
   "execution_count": null,
   "metadata": {},
   "outputs": [],
   "source": []
  }
 ],
 "metadata": {
  "kernelspec": {
   "display_name": "R",
   "language": "R",
   "name": "ir"
  },
  "language_info": {
   "codemirror_mode": "r",
   "file_extension": ".r",
   "mimetype": "text/x-r-source",
   "name": "R",
   "pygments_lexer": "r",
   "version": "4.0.0"
  }
 },
 "nbformat": 4,
 "nbformat_minor": 4
}
