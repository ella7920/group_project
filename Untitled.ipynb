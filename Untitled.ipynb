{
 "cells": [
  {
   "cell_type": "code",
   "execution_count": 84,
   "metadata": {},
   "outputs": [
    {
     "name": "stderr",
     "output_type": "stream",
     "text": [
      "Warning message in file(filename, \"r\", encoding = encoding):\n",
      "“cannot open file 'tests.R': No such file or directory”\n"
     ]
    },
    {
     "ename": "ERROR",
     "evalue": "Error in file(filename, \"r\", encoding = encoding): cannot open the connection\n",
     "output_type": "error",
     "traceback": [
      "Error in file(filename, \"r\", encoding = encoding): cannot open the connection\nTraceback:\n",
      "1. source(\"tests.R\")",
      "2. file(filename, \"r\", encoding = encoding)"
     ]
    }
   ],
   "source": [
    "library(tidyverse)\n",
    "library(repr)\n",
    "library(tidymodels)\n",
    "options(repr.matrix.max.rows = 6)\n",
    "source('tests.R')\n",
    "source('cleanup.R')"
   ]
  },
  {
   "cell_type": "markdown",
   "metadata": {},
   "source": [
    " Underlying Causes of Child Malnutrition in SouthWest Nigeria**"
   ]
  },
  {
   "cell_type": "markdown",
   "metadata": {},
   "source": [
    "Most prevalent in developing countries such as Nigeria, child malnutrition is commonplace and unavoidable. 1 in 4 children under 5 is considered to be malnourished or stunted. This hinders their growth and can be damaging to the development of their brain. A survey taken in May of 2020 can be accessed on the Harvard Database regarding Abigail Adeyonu’s research on determinants of malnutrition. A questionnaire was passed out to families of southwest Nigeria who had children under 5. Many questions were asked, including but not limited to the categories of the family’s socioeconomic characteristics, the mother’s characteristics, background information of the community, and the child’s characteristics, namely their nutritional status.  Nutritional status is represented as: 1 = well-nourished, 2 = at risk, 0 = malnourished.  While many factors are present that can be used to predict the child’s nutritional status, we will be focusing on the size of the household and the household’s monthly expenditures. The question we will be answering is: can we use classification to predict the nutritional status of a child in southwest Nigeria using their household size and monthly household expenditure?"
   ]
  },
  {
   "cell_type": "markdown",
   "metadata": {},
   "source": [
    "Data analysis will be done on the columns household size and monthly household expenditure, both of these will be used to predict the child’s malnutrition status. The data will be standardized so that we can accurately predict the child’s nutritional status. "
   ]
  },
  {
   "cell_type": "code",
   "execution_count": 86,
   "metadata": {},
   "outputs": [
    {
     "name": "stderr",
     "output_type": "stream",
     "text": [
      "Parsed with column specification:\n",
      "cols(\n",
      "  .default = col_double()\n",
      ")\n",
      "\n",
      "See spec(...) for full column specifications.\n",
      "\n"
     ]
    },
    {
     "data": {
      "text/html": [
       "<table>\n",
       "<caption>A tibble: 487 × 3</caption>\n",
       "<thead>\n",
       "\t<tr><th scope=col>Hhsize</th><th scope=col>ExM</th><th scope=col>NutritnStat</th></tr>\n",
       "\t<tr><th scope=col>&lt;dbl&gt;</th><th scope=col>&lt;dbl&gt;</th><th scope=col>&lt;dbl&gt;</th></tr>\n",
       "</thead>\n",
       "<tbody>\n",
       "\t<tr><td>7</td><td>69800</td><td>1</td></tr>\n",
       "\t<tr><td>5</td><td>87000</td><td>1</td></tr>\n",
       "\t<tr><td>8</td><td>77300</td><td>1</td></tr>\n",
       "\t<tr><td>⋮</td><td>⋮</td><td>⋮</td></tr>\n",
       "\t<tr><td> 6</td><td>65000</td><td>1</td></tr>\n",
       "\t<tr><td>12</td><td>84000</td><td>0</td></tr>\n",
       "\t<tr><td> 5</td><td>45000</td><td>1</td></tr>\n",
       "</tbody>\n",
       "</table>\n"
      ],
      "text/latex": [
       "A tibble: 487 × 3\n",
       "\\begin{tabular}{lll}\n",
       " Hhsize & ExM & NutritnStat\\\\\n",
       " <dbl> & <dbl> & <dbl>\\\\\n",
       "\\hline\n",
       "\t 7 & 69800 & 1\\\\\n",
       "\t 5 & 87000 & 1\\\\\n",
       "\t 8 & 77300 & 1\\\\\n",
       "\t ⋮ & ⋮ & ⋮\\\\\n",
       "\t  6 & 65000 & 1\\\\\n",
       "\t 12 & 84000 & 0\\\\\n",
       "\t  5 & 45000 & 1\\\\\n",
       "\\end{tabular}\n"
      ],
      "text/markdown": [
       "\n",
       "A tibble: 487 × 3\n",
       "\n",
       "| Hhsize &lt;dbl&gt; | ExM &lt;dbl&gt; | NutritnStat &lt;dbl&gt; |\n",
       "|---|---|---|\n",
       "| 7 | 69800 | 1 |\n",
       "| 5 | 87000 | 1 |\n",
       "| 8 | 77300 | 1 |\n",
       "| ⋮ | ⋮ | ⋮ |\n",
       "|  6 | 65000 | 1 |\n",
       "| 12 | 84000 | 0 |\n",
       "|  5 | 45000 | 1 |\n",
       "\n"
      ],
      "text/plain": [
       "    Hhsize ExM   NutritnStat\n",
       "1   7      69800 1          \n",
       "2   5      87000 1          \n",
       "3   8      77300 1          \n",
       "⋮   ⋮      ⋮     ⋮          \n",
       "485  6     65000 1          \n",
       "486 12     84000 0          \n",
       "487  5     45000 1          "
      ]
     },
     "metadata": {},
     "output_type": "display_data"
    }
   ],
   "source": [
    "malnutrition_data <- read_tsv(url(\"https://dataverse.harvard.edu/api/access/datafile/:persistentId?persistentId=doi:10.7910/DVN/FFNBFT/0BXHJ8\"))%>% \n",
    "    select(\"Hhsize\", \"Expenditur/mon\", \"NutritnStat\") %>%\n",
    "    rename(\"ExM\" = \"Expenditur/mon\")\n",
    "malnutrition_data"
   ]
  },
  {
   "cell_type": "markdown",
   "metadata": {},
   "source": [
    "*Figure 1. Malnutrition Data with interested selected columns*"
   ]
  },
  {
   "cell_type": "markdown",
   "metadata": {},
   "source": [
    "Now we first see how many children are in each nutritional status. "
   ]
  },
  {
   "cell_type": "code",
   "execution_count": 30,
   "metadata": {},
   "outputs": [
    {
     "name": "stderr",
     "output_type": "stream",
     "text": [
      "`summarise()` ungrouping output (override with `.groups` argument)\n",
      "\n"
     ]
    },
    {
     "data": {
      "text/html": [
       "<table>\n",
       "<caption>A tibble: 3 × 2</caption>\n",
       "<thead>\n",
       "\t<tr><th scope=col>NutritnStat</th><th scope=col>count</th></tr>\n",
       "\t<tr><th scope=col>&lt;dbl&gt;</th><th scope=col>&lt;int&gt;</th></tr>\n",
       "</thead>\n",
       "<tbody>\n",
       "\t<tr><td>0</td><td>187</td></tr>\n",
       "\t<tr><td>1</td><td>290</td></tr>\n",
       "\t<tr><td>2</td><td> 10</td></tr>\n",
       "</tbody>\n",
       "</table>\n"
      ],
      "text/latex": [
       "A tibble: 3 × 2\n",
       "\\begin{tabular}{ll}\n",
       " NutritnStat & count\\\\\n",
       " <dbl> & <int>\\\\\n",
       "\\hline\n",
       "\t 0 & 187\\\\\n",
       "\t 1 & 290\\\\\n",
       "\t 2 &  10\\\\\n",
       "\\end{tabular}\n"
      ],
      "text/markdown": [
       "\n",
       "A tibble: 3 × 2\n",
       "\n",
       "| NutritnStat &lt;dbl&gt; | count &lt;int&gt; |\n",
       "|---|---|\n",
       "| 0 | 187 |\n",
       "| 1 | 290 |\n",
       "| 2 |  10 |\n",
       "\n"
      ],
      "text/plain": [
       "  NutritnStat count\n",
       "1 0           187  \n",
       "2 1           290  \n",
       "3 2            10  "
      ]
     },
     "metadata": {},
     "output_type": "display_data"
    }
   ],
   "source": [
    "malnutrition_count <- malnutrition_data %>% \n",
    "    group_by(NutritnStat) %>% \n",
    "    summarize(count=n())\n",
    "malnutrition_count"
   ]
  },
  {
   "cell_type": "markdown",
   "metadata": {},
   "source": [
    "*Table 1.1. Count of children under age of 5 for 0 = Malnurished, 1 = Well-Nourished, 2 = At-Risk*"
   ]
  },
  {
   "cell_type": "markdown",
   "metadata": {},
   "source": [
    "Because there are only ten children that are marked \"at-risk\" and this category is not necessary for our classification of malnourished vs healthy, we are going to get rid of these observations so that the count of each variable is closer to equal and the classifier can be more accurate."
   ]
  },
  {
   "cell_type": "code",
   "execution_count": 31,
   "metadata": {},
   "outputs": [
    {
     "data": {
      "text/html": [
       "<table>\n",
       "<caption>A tibble: 477 × 3</caption>\n",
       "<thead>\n",
       "\t<tr><th scope=col>Hhsize</th><th scope=col>ExM</th><th scope=col>NutritnStat</th></tr>\n",
       "\t<tr><th scope=col>&lt;dbl&gt;</th><th scope=col>&lt;dbl&gt;</th><th scope=col>&lt;fct&gt;</th></tr>\n",
       "</thead>\n",
       "<tbody>\n",
       "\t<tr><td>7</td><td>69800</td><td>1</td></tr>\n",
       "\t<tr><td>5</td><td>87000</td><td>1</td></tr>\n",
       "\t<tr><td>8</td><td>77300</td><td>1</td></tr>\n",
       "\t<tr><td>⋮</td><td>⋮</td><td>⋮</td></tr>\n",
       "\t<tr><td> 6</td><td>65000</td><td>1</td></tr>\n",
       "\t<tr><td>12</td><td>84000</td><td>0</td></tr>\n",
       "\t<tr><td> 5</td><td>45000</td><td>1</td></tr>\n",
       "</tbody>\n",
       "</table>\n"
      ],
      "text/latex": [
       "A tibble: 477 × 3\n",
       "\\begin{tabular}{lll}\n",
       " Hhsize & ExM & NutritnStat\\\\\n",
       " <dbl> & <dbl> & <fct>\\\\\n",
       "\\hline\n",
       "\t 7 & 69800 & 1\\\\\n",
       "\t 5 & 87000 & 1\\\\\n",
       "\t 8 & 77300 & 1\\\\\n",
       "\t ⋮ & ⋮ & ⋮\\\\\n",
       "\t  6 & 65000 & 1\\\\\n",
       "\t 12 & 84000 & 0\\\\\n",
       "\t  5 & 45000 & 1\\\\\n",
       "\\end{tabular}\n"
      ],
      "text/markdown": [
       "\n",
       "A tibble: 477 × 3\n",
       "\n",
       "| Hhsize &lt;dbl&gt; | ExM &lt;dbl&gt; | NutritnStat &lt;fct&gt; |\n",
       "|---|---|---|\n",
       "| 7 | 69800 | 1 |\n",
       "| 5 | 87000 | 1 |\n",
       "| 8 | 77300 | 1 |\n",
       "| ⋮ | ⋮ | ⋮ |\n",
       "|  6 | 65000 | 1 |\n",
       "| 12 | 84000 | 0 |\n",
       "|  5 | 45000 | 1 |\n",
       "\n"
      ],
      "text/plain": [
       "    Hhsize ExM   NutritnStat\n",
       "1   7      69800 1          \n",
       "2   5      87000 1          \n",
       "3   8      77300 1          \n",
       "⋮   ⋮      ⋮     ⋮          \n",
       "475  6     65000 1          \n",
       "476 12     84000 0          \n",
       "477  5     45000 1          "
      ]
     },
     "metadata": {},
     "output_type": "display_data"
    }
   ],
   "source": [
    "malnutrition_data_2 <- malnutrition_data %>% \n",
    "    filter(NutritnStat < 2) %>% \n",
    "    mutate(NutritnStat = as_factor(NutritnStat))\n",
    "malnutrition_data_2"
   ]
  },
  {
   "cell_type": "markdown",
   "metadata": {},
   "source": [
    "*Table 1.2. Count of children under age of 5 for 0 = Malnurished, 1 = Well-Nourished*"
   ]
  },
  {
   "cell_type": "markdown",
   "metadata": {},
   "source": [
    "This is our data in a tidy format. Now we will split the data into our training set. We chose 75% of our data to be in training so that we can use more points into training the dataset accurately. 25% of the data will be used for testing so we evaluate the accuracy of our training."
   ]
  },
  {
   "cell_type": "code",
   "execution_count": 88,
   "metadata": {},
   "outputs": [
    {
     "data": {
      "text/html": [
       "<table>\n",
       "<caption>A tibble: 359 × 3</caption>\n",
       "<thead>\n",
       "\t<tr><th scope=col>Hhsize</th><th scope=col>ExM</th><th scope=col>NutritnStat</th></tr>\n",
       "\t<tr><th scope=col>&lt;dbl&gt;</th><th scope=col>&lt;dbl&gt;</th><th scope=col>&lt;fct&gt;</th></tr>\n",
       "</thead>\n",
       "<tbody>\n",
       "\t<tr><td>5</td><td>87000</td><td>1</td></tr>\n",
       "\t<tr><td>8</td><td>77300</td><td>1</td></tr>\n",
       "\t<tr><td>8</td><td>90000</td><td>1</td></tr>\n",
       "\t<tr><td>⋮</td><td>⋮</td><td>⋮</td></tr>\n",
       "\t<tr><td> 3</td><td>47900</td><td>1</td></tr>\n",
       "\t<tr><td>12</td><td>84000</td><td>0</td></tr>\n",
       "\t<tr><td> 5</td><td>45000</td><td>1</td></tr>\n",
       "</tbody>\n",
       "</table>\n"
      ],
      "text/latex": [
       "A tibble: 359 × 3\n",
       "\\begin{tabular}{lll}\n",
       " Hhsize & ExM & NutritnStat\\\\\n",
       " <dbl> & <dbl> & <fct>\\\\\n",
       "\\hline\n",
       "\t 5 & 87000 & 1\\\\\n",
       "\t 8 & 77300 & 1\\\\\n",
       "\t 8 & 90000 & 1\\\\\n",
       "\t ⋮ & ⋮ & ⋮\\\\\n",
       "\t  3 & 47900 & 1\\\\\n",
       "\t 12 & 84000 & 0\\\\\n",
       "\t  5 & 45000 & 1\\\\\n",
       "\\end{tabular}\n"
      ],
      "text/markdown": [
       "\n",
       "A tibble: 359 × 3\n",
       "\n",
       "| Hhsize &lt;dbl&gt; | ExM &lt;dbl&gt; | NutritnStat &lt;fct&gt; |\n",
       "|---|---|---|\n",
       "| 5 | 87000 | 1 |\n",
       "| 8 | 77300 | 1 |\n",
       "| 8 | 90000 | 1 |\n",
       "| ⋮ | ⋮ | ⋮ |\n",
       "|  3 | 47900 | 1 |\n",
       "| 12 | 84000 | 0 |\n",
       "|  5 | 45000 | 1 |\n",
       "\n"
      ],
      "text/plain": [
       "    Hhsize ExM   NutritnStat\n",
       "1   5      87000 1          \n",
       "2   8      77300 1          \n",
       "3   8      90000 1          \n",
       "⋮   ⋮      ⋮     ⋮          \n",
       "357  3     47900 1          \n",
       "358 12     84000 0          \n",
       "359  5     45000 1          "
      ]
     },
     "metadata": {},
     "output_type": "display_data"
    }
   ],
   "source": [
    "set.seed(1)\n",
    "\n",
    "malnutrition_split <- initial_split(malnutrition_data_2, prop = 0.75, strata = NutritnStat)\n",
    "malnutrition_train <- training(malnutrition_split)\n",
    "malnutrition_test <- testing(malnutrition_split)\n",
    "malnutrition_train"
   ]
  },
  {
   "cell_type": "markdown",
   "metadata": {},
   "source": [
    "*Table 1.3. Training set for Malnutrition Data*"
   ]
  },
  {
   "cell_type": "code",
   "execution_count": 89,
   "metadata": {},
   "outputs": [
    {
     "data": {
      "text/html": [
       "<table>\n",
       "<caption>A tibble: 118 × 3</caption>\n",
       "<thead>\n",
       "\t<tr><th scope=col>Hhsize</th><th scope=col>ExM</th><th scope=col>NutritnStat</th></tr>\n",
       "\t<tr><th scope=col>&lt;dbl&gt;</th><th scope=col>&lt;dbl&gt;</th><th scope=col>&lt;fct&gt;</th></tr>\n",
       "</thead>\n",
       "<tbody>\n",
       "\t<tr><td> 7</td><td>69800</td><td>1</td></tr>\n",
       "\t<tr><td>28</td><td>85000</td><td>0</td></tr>\n",
       "\t<tr><td> 6</td><td>20000</td><td>1</td></tr>\n",
       "\t<tr><td>⋮</td><td>⋮</td><td>⋮</td></tr>\n",
       "\t<tr><td>5</td><td>65000</td><td>1</td></tr>\n",
       "\t<tr><td>8</td><td>55000</td><td>0</td></tr>\n",
       "\t<tr><td>6</td><td>65000</td><td>1</td></tr>\n",
       "</tbody>\n",
       "</table>\n"
      ],
      "text/latex": [
       "A tibble: 118 × 3\n",
       "\\begin{tabular}{lll}\n",
       " Hhsize & ExM & NutritnStat\\\\\n",
       " <dbl> & <dbl> & <fct>\\\\\n",
       "\\hline\n",
       "\t  7 & 69800 & 1\\\\\n",
       "\t 28 & 85000 & 0\\\\\n",
       "\t  6 & 20000 & 1\\\\\n",
       "\t ⋮ & ⋮ & ⋮\\\\\n",
       "\t 5 & 65000 & 1\\\\\n",
       "\t 8 & 55000 & 0\\\\\n",
       "\t 6 & 65000 & 1\\\\\n",
       "\\end{tabular}\n"
      ],
      "text/markdown": [
       "\n",
       "A tibble: 118 × 3\n",
       "\n",
       "| Hhsize &lt;dbl&gt; | ExM &lt;dbl&gt; | NutritnStat &lt;fct&gt; |\n",
       "|---|---|---|\n",
       "|  7 | 69800 | 1 |\n",
       "| 28 | 85000 | 0 |\n",
       "|  6 | 20000 | 1 |\n",
       "| ⋮ | ⋮ | ⋮ |\n",
       "| 5 | 65000 | 1 |\n",
       "| 8 | 55000 | 0 |\n",
       "| 6 | 65000 | 1 |\n",
       "\n"
      ],
      "text/plain": [
       "    Hhsize ExM   NutritnStat\n",
       "1    7     69800 1          \n",
       "2   28     85000 0          \n",
       "3    6     20000 1          \n",
       "⋮   ⋮      ⋮     ⋮          \n",
       "116 5      65000 1          \n",
       "117 8      55000 0          \n",
       "118 6      65000 1          "
      ]
     },
     "metadata": {},
     "output_type": "display_data"
    }
   ],
   "source": [
    "malnutrition_test"
   ]
  },
  {
   "cell_type": "markdown",
   "metadata": {},
   "source": [
    "*Table 1.4. Testing set for Malnutrition Data*"
   ]
  },
  {
   "cell_type": "markdown",
   "metadata": {},
   "source": [
    "Then using the training data we will create a scatterplot of household size against monthly household expenditure, color coding data points according to malnutrition index. Later, we will use K-nearest neighbors to predict the child’s nutritional status. We decided to use K-nearest neighbors because nutritional status is a category, therefore we cannot use linear regression. Clustering also would not apply in this case because we don't need to split the data into groups."
   ]
  },
  {
   "cell_type": "code",
   "execution_count": 76,
   "metadata": {},
   "outputs": [
    {
     "data": {
      "image/png": "[encoded data removed]",
      "text/plain": [
       "plot without title"
      ]
     },
     "metadata": {
      "image/png": {
       "height": 600,
       "width": 600
      }
     },
     "output_type": "display_data"
    }
   ],
   "source": [
    "set.seed(1)\n",
    "options(repr.plot.width = 10, repr.plot.height = 10)\n",
    "\n",
    "malnutrition_train_graph <- malnutrition_train %>% \n",
    "    ggplot(aes(x = Hhsize, y = ExM, color = NutritnStat)) +\n",
    "    geom_point() +\n",
    "    ggtitle(\"Figure 1. Nutritional Status of Children Based on Household Size and Monthly Household Expenditures\") +\n",
    "    labs(x = \"Household Size\", y = \"Monthly Household Expenditure\", color = \"Nutritional Status\") + \n",
    "    theme(text = element_text(size = 20))\n",
    "malnutrition_train_graph"
   ]
  },
  {
   "cell_type": "markdown",
   "metadata": {},
   "source": [
    "We can note several observations from above:\n",
    "- children who are considered \"well nourished\" are found only in household sizes under 9 \n",
    "- children who are considered malnourished are found spread out within all family sizes\n",
    "- children who are considered \"well nourished\" and malnourished are found in all monthly expenditures "
   ]
  },
  {
   "cell_type": "markdown",
   "metadata": {},
   "source": [
    "In order to classify this dataset using KNN, we want to test the accuracy of using Household size, Monthly Expenditures, and a combination of both, as recipes to predict the child's nutritional status. We will then compare the accuracies to see which is the best predictor and why."
   ]
  },
  {
   "cell_type": "markdown",
   "metadata": {},
   "source": [
    "First of all, we will use cross validation to choose the best K value for predicting the child's nutritional status with just household size."
   ]
  },
  {
   "cell_type": "markdown",
   "metadata": {},
   "source": [
    "We begin by creating a model, with neighbors equal to tune so we can find the best k value."
   ]
  },
  {
   "cell_type": "code",
   "execution_count": 41,
   "metadata": {},
   "outputs": [],
   "source": [
    "knn_spec <- nearest_neighbor(weight_func = \"rectangular\", \n",
    "                             neighbors = tune()) %>%\n",
    "  set_engine(\"kknn\") %>%\n",
    "  set_mode(\"classification\")"
   ]
  },
  {
   "cell_type": "markdown",
   "metadata": {},
   "source": [
    "We then created a tibble of k values to choose from, testing each value from 1 to 50. We also split our training data into 5 folds to perform cross validation on."
   ]
  },
  {
   "cell_type": "code",
   "execution_count": 42,
   "metadata": {},
   "outputs": [],
   "source": [
    "k_vals <- tibble(neighbors = seq(from = 1, to = 50))\n",
    "\n",
    "malnutrition_vfold <- vfold_cv(malnutrition_train, v = 5, strata = NutritnStat)"
   ]
  },
  {
   "cell_type": "markdown",
   "metadata": {},
   "source": [
    "In order to specify that this K value is to predict the child's nutritional status with just the household size, we create a recipe specifying such. We also scale our predictors."
   ]
  },
  {
   "cell_type": "code",
   "execution_count": 43,
   "metadata": {},
   "outputs": [],
   "source": [
    "recipe_hhs <- recipe(NutritnStat ~ Hhsize, data = malnutrition_train) %>% \n",
    "    step_scale(all_numeric()) %>% \n",
    "    step_center(all_numeric())"
   ]
  },
  {
   "cell_type": "markdown",
   "metadata": {},
   "source": [
    "We then combine everything into a workflow. We add the recipe and model we created above and combine it with tune_grid to resample the 5 folds of our training set and test with each k value of 1 to 50. We use the collect_metrics function to calculate accuracy of each K value"
   ]
  },
  {
   "cell_type": "code",
   "execution_count": 44,
   "metadata": {},
   "outputs": [],
   "source": [
    "knn_results_hhs <- workflow() %>%\n",
    "  add_recipe(recipe_hhs) %>%\n",
    "  add_model(knn_spec) %>%\n",
    "  tune_grid(resamples = malnutrition_vfold, grid = k_vals) %>%\n",
    "  collect_metrics()"
   ]
  },
  {
   "cell_type": "markdown",
   "metadata": {},
   "source": [
    "We can then filter the results to see the accuracy per K value."
   ]
  },
  {
   "cell_type": "code",
   "execution_count": 90,
   "metadata": {},
   "outputs": [
    {
     "data": {
      "text/html": [
       "<table>\n",
       "<caption>A tibble: 50 × 7</caption>\n",
       "<thead>\n",
       "\t<tr><th scope=col>neighbors</th><th scope=col>.metric</th><th scope=col>.estimator</th><th scope=col>mean</th><th scope=col>n</th><th scope=col>std_err</th><th scope=col>.config</th></tr>\n",
       "\t<tr><th scope=col>&lt;int&gt;</th><th scope=col>&lt;chr&gt;</th><th scope=col>&lt;chr&gt;</th><th scope=col>&lt;dbl&gt;</th><th scope=col>&lt;int&gt;</th><th scope=col>&lt;dbl&gt;</th><th scope=col>&lt;chr&gt;</th></tr>\n",
       "</thead>\n",
       "<tbody>\n",
       "\t<tr><td>1</td><td>accuracy</td><td>binary</td><td>0.7329110</td><td>5</td><td>0.03722397</td><td>Model01</td></tr>\n",
       "\t<tr><td>2</td><td>accuracy</td><td>binary</td><td>0.7633599</td><td>5</td><td>0.02305876</td><td>Model02</td></tr>\n",
       "\t<tr><td>3</td><td>accuracy</td><td>binary</td><td>0.8134435</td><td>5</td><td>0.00485503</td><td>Model03</td></tr>\n",
       "\t<tr><td>⋮</td><td>⋮</td><td>⋮</td><td>⋮</td><td>⋮</td><td>⋮</td><td>⋮</td></tr>\n",
       "\t<tr><td>48</td><td>accuracy</td><td>binary</td><td>0.7853897</td><td>5</td><td>0.01787549</td><td>Model48</td></tr>\n",
       "\t<tr><td>49</td><td>accuracy</td><td>binary</td><td>0.7853897</td><td>5</td><td>0.01787549</td><td>Model49</td></tr>\n",
       "\t<tr><td>50</td><td>accuracy</td><td>binary</td><td>0.7853897</td><td>5</td><td>0.01787549</td><td>Model50</td></tr>\n",
       "</tbody>\n",
       "</table>\n"
      ],
      "text/latex": [
       "A tibble: 50 × 7\n",
       "\\begin{tabular}{lllllll}\n",
       " neighbors & .metric & .estimator & mean & n & std\\_err & .config\\\\\n",
       " <int> & <chr> & <chr> & <dbl> & <int> & <dbl> & <chr>\\\\\n",
       "\\hline\n",
       "\t 1 & accuracy & binary & 0.7329110 & 5 & 0.03722397 & Model01\\\\\n",
       "\t 2 & accuracy & binary & 0.7633599 & 5 & 0.02305876 & Model02\\\\\n",
       "\t 3 & accuracy & binary & 0.8134435 & 5 & 0.00485503 & Model03\\\\\n",
       "\t ⋮ & ⋮ & ⋮ & ⋮ & ⋮ & ⋮ & ⋮\\\\\n",
       "\t 48 & accuracy & binary & 0.7853897 & 5 & 0.01787549 & Model48\\\\\n",
       "\t 49 & accuracy & binary & 0.7853897 & 5 & 0.01787549 & Model49\\\\\n",
       "\t 50 & accuracy & binary & 0.7853897 & 5 & 0.01787549 & Model50\\\\\n",
       "\\end{tabular}\n"
      ],
      "text/markdown": [
       "\n",
       "A tibble: 50 × 7\n",
       "\n",
       "| neighbors &lt;int&gt; | .metric &lt;chr&gt; | .estimator &lt;chr&gt; | mean &lt;dbl&gt; | n &lt;int&gt; | std_err &lt;dbl&gt; | .config &lt;chr&gt; |\n",
       "|---|---|---|---|---|---|---|\n",
       "| 1 | accuracy | binary | 0.7329110 | 5 | 0.03722397 | Model01 |\n",
       "| 2 | accuracy | binary | 0.7633599 | 5 | 0.02305876 | Model02 |\n",
       "| 3 | accuracy | binary | 0.8134435 | 5 | 0.00485503 | Model03 |\n",
       "| ⋮ | ⋮ | ⋮ | ⋮ | ⋮ | ⋮ | ⋮ |\n",
       "| 48 | accuracy | binary | 0.7853897 | 5 | 0.01787549 | Model48 |\n",
       "| 49 | accuracy | binary | 0.7853897 | 5 | 0.01787549 | Model49 |\n",
       "| 50 | accuracy | binary | 0.7853897 | 5 | 0.01787549 | Model50 |\n",
       "\n"
      ],
      "text/plain": [
       "   neighbors .metric  .estimator mean      n std_err    .config\n",
       "1  1         accuracy binary     0.7329110 5 0.03722397 Model01\n",
       "2  2         accuracy binary     0.7633599 5 0.02305876 Model02\n",
       "3  3         accuracy binary     0.8134435 5 0.00485503 Model03\n",
       "⋮  ⋮         ⋮        ⋮          ⋮         ⋮ ⋮          ⋮      \n",
       "48 48        accuracy binary     0.7853897 5 0.01787549 Model48\n",
       "49 49        accuracy binary     0.7853897 5 0.01787549 Model49\n",
       "50 50        accuracy binary     0.7853897 5 0.01787549 Model50"
      ]
     },
     "metadata": {},
     "output_type": "display_data"
    }
   ],
   "source": [
    "accuracies_hhs <- knn_results_hhs %>%\n",
    "    filter(.metric == \"accuracy\")\n",
    "accuracies_hhs"
   ]
  },
  {
   "cell_type": "markdown",
   "metadata": {},
   "source": [
    "*Table 1.5. K values accuracy for only Household Size*"
   ]
  },
  {
   "cell_type": "markdown",
   "metadata": {},
   "source": [
    "By plotting each k values accuracy, we can see which k value would fit the best to our model."
   ]
  },
  {
   "cell_type": "code",
   "execution_count": 99,
   "metadata": {},
   "outputs": [
    {
     "data": {
      "image/png": "[encoded data removed]",
      "text/plain": [
       "plot without title"
      ]
     },
     "metadata": {
      "image/png": {
       "height": 600,
       "width": 600
      }
     },
     "output_type": "display_data"
    }
   ],
   "source": [
    "hhsize_k_plot <- accuracies_hhs %>%\n",
    "    ggplot(aes(x=neighbors, y=mean)) +\n",
    "    geom_point() + \n",
    "    geom_line() +\n",
    "    ggtitle(\"Figure 2. K Value Accuracies for Only Household Size\") +\n",
    "    labs(x = \"Neighbours\", y = \"Accuracy\") +\n",
    "    theme(text = element_text(size = 13))\n",
    "    hhsize_k_plot"
   ]
  },
  {
   "cell_type": "markdown",
   "metadata": {},
   "source": [
    "K=11 looks to be a relatively good fit for our K parameter, lets see its accuracy:"
   ]
  },
  {
   "cell_type": "code",
   "execution_count": 47,
   "metadata": {},
   "outputs": [
    {
     "data": {
      "text/html": [
       "0.816221300405171"
      ],
      "text/latex": [
       "0.816221300405171"
      ],
      "text/markdown": [
       "0.816221300405171"
      ],
      "text/plain": [
       "[1] 0.8162213"
      ]
     },
     "metadata": {},
     "output_type": "display_data"
    }
   ],
   "source": [
    "accuracy_hhs <- accuracies_hhs %>% \n",
    "    filter(neighbors == 11) %>%\n",
    "    select(mean) %>%\n",
    "    pull()\n",
    "accuracy_hhs"
   ]
  },
  {
   "cell_type": "markdown",
   "metadata": {},
   "source": [
    "Based on the graph above, we can choose 11 to be our K value when predicting with just household size. This is because it has a \n",
    "relatively high accuracy of 81.6%, the accuracy remains relatively unchanged by changing it into a slightly lower or slightly higher k value, and it's not too high of a value that the cost of running it is too much."
   ]
  },
  {
   "cell_type": "markdown",
   "metadata": {},
   "source": [
    "We then do this procedure two more times. Once with a recipe specifying that the child's nutritional status will be predicted by just the family's expenditures per month and another with a recipe specifying that the child's nutritional status will be predicted with both household size and expenditures per month."
   ]
  },
  {
   "cell_type": "markdown",
   "metadata": {},
   "source": [
    "Below is where we performed cross validation to find the best K value for the recipe using just family's expenditures per month, following the same procedure as above."
   ]
  },
  {
   "cell_type": "code",
   "execution_count": 48,
   "metadata": {},
   "outputs": [
    {
     "data": {
      "text/html": [
       "<table>\n",
       "<caption>A tibble: 50 × 7</caption>\n",
       "<thead>\n",
       "\t<tr><th scope=col>neighbors</th><th scope=col>.metric</th><th scope=col>.estimator</th><th scope=col>mean</th><th scope=col>n</th><th scope=col>std_err</th><th scope=col>.config</th></tr>\n",
       "\t<tr><th scope=col>&lt;int&gt;</th><th scope=col>&lt;chr&gt;</th><th scope=col>&lt;chr&gt;</th><th scope=col>&lt;dbl&gt;</th><th scope=col>&lt;int&gt;</th><th scope=col>&lt;dbl&gt;</th><th scope=col>&lt;chr&gt;</th></tr>\n",
       "</thead>\n",
       "<tbody>\n",
       "\t<tr><td>1</td><td>accuracy</td><td>binary</td><td>0.6349085</td><td>5</td><td>0.02121805</td><td>Model01</td></tr>\n",
       "\t<tr><td>2</td><td>accuracy</td><td>binary</td><td>0.6570187</td><td>5</td><td>0.02195164</td><td>Model02</td></tr>\n",
       "\t<tr><td>3</td><td>accuracy</td><td>binary</td><td>0.6514642</td><td>5</td><td>0.01961675</td><td>Model03</td></tr>\n",
       "\t<tr><td>⋮</td><td>⋮</td><td>⋮</td><td>⋮</td><td>⋮</td><td>⋮</td><td>⋮</td></tr>\n",
       "\t<tr><td>48</td><td>accuracy</td><td>binary</td><td>0.6577545</td><td>5</td><td>0.02385024</td><td>Model48</td></tr>\n",
       "\t<tr><td>49</td><td>accuracy</td><td>binary</td><td>0.6605714</td><td>5</td><td>0.02649024</td><td>Model49</td></tr>\n",
       "\t<tr><td>50</td><td>accuracy</td><td>binary</td><td>0.6577936</td><td>5</td><td>0.02683791</td><td>Model50</td></tr>\n",
       "</tbody>\n",
       "</table>\n"
      ],
      "text/latex": [
       "A tibble: 50 × 7\n",
       "\\begin{tabular}{lllllll}\n",
       " neighbors & .metric & .estimator & mean & n & std\\_err & .config\\\\\n",
       " <int> & <chr> & <chr> & <dbl> & <int> & <dbl> & <chr>\\\\\n",
       "\\hline\n",
       "\t 1 & accuracy & binary & 0.6349085 & 5 & 0.02121805 & Model01\\\\\n",
       "\t 2 & accuracy & binary & 0.6570187 & 5 & 0.02195164 & Model02\\\\\n",
       "\t 3 & accuracy & binary & 0.6514642 & 5 & 0.01961675 & Model03\\\\\n",
       "\t ⋮ & ⋮ & ⋮ & ⋮ & ⋮ & ⋮ & ⋮\\\\\n",
       "\t 48 & accuracy & binary & 0.6577545 & 5 & 0.02385024 & Model48\\\\\n",
       "\t 49 & accuracy & binary & 0.6605714 & 5 & 0.02649024 & Model49\\\\\n",
       "\t 50 & accuracy & binary & 0.6577936 & 5 & 0.02683791 & Model50\\\\\n",
       "\\end{tabular}\n"
      ],
      "text/markdown": [
       "\n",
       "A tibble: 50 × 7\n",
       "\n",
       "| neighbors &lt;int&gt; | .metric &lt;chr&gt; | .estimator &lt;chr&gt; | mean &lt;dbl&gt; | n &lt;int&gt; | std_err &lt;dbl&gt; | .config &lt;chr&gt; |\n",
       "|---|---|---|---|---|---|---|\n",
       "| 1 | accuracy | binary | 0.6349085 | 5 | 0.02121805 | Model01 |\n",
       "| 2 | accuracy | binary | 0.6570187 | 5 | 0.02195164 | Model02 |\n",
       "| 3 | accuracy | binary | 0.6514642 | 5 | 0.01961675 | Model03 |\n",
       "| ⋮ | ⋮ | ⋮ | ⋮ | ⋮ | ⋮ | ⋮ |\n",
       "| 48 | accuracy | binary | 0.6577545 | 5 | 0.02385024 | Model48 |\n",
       "| 49 | accuracy | binary | 0.6605714 | 5 | 0.02649024 | Model49 |\n",
       "| 50 | accuracy | binary | 0.6577936 | 5 | 0.02683791 | Model50 |\n",
       "\n"
      ],
      "text/plain": [
       "   neighbors .metric  .estimator mean      n std_err    .config\n",
       "1  1         accuracy binary     0.6349085 5 0.02121805 Model01\n",
       "2  2         accuracy binary     0.6570187 5 0.02195164 Model02\n",
       "3  3         accuracy binary     0.6514642 5 0.01961675 Model03\n",
       "⋮  ⋮         ⋮        ⋮          ⋮         ⋮ ⋮          ⋮      \n",
       "48 48        accuracy binary     0.6577545 5 0.02385024 Model48\n",
       "49 49        accuracy binary     0.6605714 5 0.02649024 Model49\n",
       "50 50        accuracy binary     0.6577936 5 0.02683791 Model50"
      ]
     },
     "metadata": {},
     "output_type": "display_data"
    }
   ],
   "source": [
    "knn_spec <- nearest_neighbor(weight_func = \"rectangular\", \n",
    "                             neighbors = tune()) %>%\n",
    "  set_engine(\"kknn\") %>%\n",
    "  set_mode(\"classification\")\n",
    "\n",
    "k_vals <- tibble(neighbors = seq(from = 1, to = 50))\n",
    "\n",
    "malnutrition_vfold <- vfold_cv(malnutrition_train, v = 5, strata = NutritnStat)\n",
    "\n",
    "recipe_exm <- recipe(NutritnStat ~ ExM, data = malnutrition_train) %>% \n",
    "    step_scale(all_numeric()) %>%\n",
    "    step_center(all_numeric())\n",
    "\n",
    "knn_results_exm <- workflow() %>%\n",
    "  add_recipe(recipe_exm) %>%\n",
    "  add_model(knn_spec) %>%\n",
    "  tune_grid(resamples = malnutrition_vfold, grid = k_vals) %>%\n",
    "  collect_metrics()\n",
    "\n",
    "accuracies_exm <- knn_results_exm %>%\n",
    "  filter(.metric == \"accuracy\")\n",
    "accuracies_exm"
   ]
  },
  {
   "cell_type": "markdown",
   "metadata": {},
   "source": [
    "*Table 1.6. K values accuracy for only Monthly Household Expenditure*"
   ]
  },
  {
   "cell_type": "markdown",
   "metadata": {},
   "source": [
    "We plot the accuracy of each K value to see the general trend."
   ]
  },
  {
   "cell_type": "code",
   "execution_count": 98,
   "metadata": {},
   "outputs": [
    {
     "data": {
      "image/png": "[encoded data removed]",
      "text/plain": [
       "plot without title"
      ]
     },
     "metadata": {
      "image/png": {
       "height": 600,
       "width": 600
      }
     },
     "output_type": "display_data"
    }
   ],
   "source": [
    "exm_k_plot <- accuracies_exm %>% \n",
    "    ggplot(aes(x=neighbors, y=mean)) +\n",
    "    geom_point() +\n",
    "    geom_line() +\n",
    "    ggtitle(\"Figure 3. K Value Accuracies for Only Monthly Household Expenditure\") +\n",
    "    labs(x = \"Neighbours\", y = \"Accuracy\") +\n",
    "    theme(text = element_text(size = 13))\n",
    "exm_k_plot"
   ]
  },
  {
   "cell_type": "markdown",
   "metadata": {},
   "source": [
    "K=18 looks to be a good K value, here's its accuracy:"
   ]
  },
  {
   "cell_type": "code",
   "execution_count": 57,
   "metadata": {},
   "outputs": [
    {
     "data": {
      "text/html": [
       "0.688002443887067"
      ],
      "text/latex": [
       "0.688002443887067"
      ],
      "text/markdown": [
       "0.688002443887067"
      ],
      "text/plain": [
       "[1] 0.6880024"
      ]
     },
     "metadata": {},
     "output_type": "display_data"
    }
   ],
   "source": [
    "accuracy_exm <- accuracies_exm %>%\n",
    "    filter(neighbors == 18) %>%\n",
    "    select(mean) %>%\n",
    "    pull()\n",
    "accuracy_exm"
   ]
  },
  {
   "cell_type": "markdown",
   "metadata": {},
   "source": [
    "Based on the graph above, we can choose 18 to be our K value when predicting with just expenditures per month. Using the same logic as before, this is because it has a relatively high accuracy of 68.8%, the accuracy remains relatively unchanged by changing it into a slightly lower or slightly higher k value, and it's not too high of a value that the cost of running it is too much."
   ]
  },
  {
   "cell_type": "markdown",
   "metadata": {},
   "source": [
    "We repeat this procedure with a new recipe that specifies that the child's nutritional status is to be predicted with both household size and family's monthly expenditures. "
   ]
  },
  {
   "cell_type": "code",
   "execution_count": 58,
   "metadata": {},
   "outputs": [
    {
     "data": {
      "text/html": [
       "<table>\n",
       "<caption>A tibble: 50 × 7</caption>\n",
       "<thead>\n",
       "\t<tr><th scope=col>neighbors</th><th scope=col>.metric</th><th scope=col>.estimator</th><th scope=col>mean</th><th scope=col>n</th><th scope=col>std_err</th><th scope=col>.config</th></tr>\n",
       "\t<tr><th scope=col>&lt;int&gt;</th><th scope=col>&lt;chr&gt;</th><th scope=col>&lt;chr&gt;</th><th scope=col>&lt;dbl&gt;</th><th scope=col>&lt;int&gt;</th><th scope=col>&lt;dbl&gt;</th><th scope=col>&lt;chr&gt;</th></tr>\n",
       "</thead>\n",
       "<tbody>\n",
       "\t<tr><td>1</td><td>accuracy</td><td>binary</td><td>0.7327229</td><td>5</td><td>0.009114904</td><td>Model01</td></tr>\n",
       "\t<tr><td>2</td><td>accuracy</td><td>binary</td><td>0.7270521</td><td>5</td><td>0.004952714</td><td>Model02</td></tr>\n",
       "\t<tr><td>3</td><td>accuracy</td><td>binary</td><td>0.7601973</td><td>5</td><td>0.016227581</td><td>Model03</td></tr>\n",
       "\t<tr><td>⋮</td><td>⋮</td><td>⋮</td><td>⋮</td><td>⋮</td><td>⋮</td><td>⋮</td></tr>\n",
       "\t<tr><td>48</td><td>accuracy</td><td>binary</td><td>0.8161071</td><td>5</td><td>0.01625689</td><td>Model48</td></tr>\n",
       "\t<tr><td>49</td><td>accuracy</td><td>binary</td><td>0.8160289</td><td>5</td><td>0.01460985</td><td>Model49</td></tr>\n",
       "\t<tr><td>50</td><td>accuracy</td><td>binary</td><td>0.8160289</td><td>5</td><td>0.01460985</td><td>Model50</td></tr>\n",
       "</tbody>\n",
       "</table>\n"
      ],
      "text/latex": [
       "A tibble: 50 × 7\n",
       "\\begin{tabular}{lllllll}\n",
       " neighbors & .metric & .estimator & mean & n & std\\_err & .config\\\\\n",
       " <int> & <chr> & <chr> & <dbl> & <int> & <dbl> & <chr>\\\\\n",
       "\\hline\n",
       "\t 1 & accuracy & binary & 0.7327229 & 5 & 0.009114904 & Model01\\\\\n",
       "\t 2 & accuracy & binary & 0.7270521 & 5 & 0.004952714 & Model02\\\\\n",
       "\t 3 & accuracy & binary & 0.7601973 & 5 & 0.016227581 & Model03\\\\\n",
       "\t ⋮ & ⋮ & ⋮ & ⋮ & ⋮ & ⋮ & ⋮\\\\\n",
       "\t 48 & accuracy & binary & 0.8161071 & 5 & 0.01625689 & Model48\\\\\n",
       "\t 49 & accuracy & binary & 0.8160289 & 5 & 0.01460985 & Model49\\\\\n",
       "\t 50 & accuracy & binary & 0.8160289 & 5 & 0.01460985 & Model50\\\\\n",
       "\\end{tabular}\n"
      ],
      "text/markdown": [
       "\n",
       "A tibble: 50 × 7\n",
       "\n",
       "| neighbors &lt;int&gt; | .metric &lt;chr&gt; | .estimator &lt;chr&gt; | mean &lt;dbl&gt; | n &lt;int&gt; | std_err &lt;dbl&gt; | .config &lt;chr&gt; |\n",
       "|---|---|---|---|---|---|---|\n",
       "| 1 | accuracy | binary | 0.7327229 | 5 | 0.009114904 | Model01 |\n",
       "| 2 | accuracy | binary | 0.7270521 | 5 | 0.004952714 | Model02 |\n",
       "| 3 | accuracy | binary | 0.7601973 | 5 | 0.016227581 | Model03 |\n",
       "| ⋮ | ⋮ | ⋮ | ⋮ | ⋮ | ⋮ | ⋮ |\n",
       "| 48 | accuracy | binary | 0.8161071 | 5 | 0.01625689 | Model48 |\n",
       "| 49 | accuracy | binary | 0.8160289 | 5 | 0.01460985 | Model49 |\n",
       "| 50 | accuracy | binary | 0.8160289 | 5 | 0.01460985 | Model50 |\n",
       "\n"
      ],
      "text/plain": [
       "   neighbors .metric  .estimator mean      n std_err     .config\n",
       "1  1         accuracy binary     0.7327229 5 0.009114904 Model01\n",
       "2  2         accuracy binary     0.7270521 5 0.004952714 Model02\n",
       "3  3         accuracy binary     0.7601973 5 0.016227581 Model03\n",
       "⋮  ⋮         ⋮        ⋮          ⋮         ⋮ ⋮           ⋮      \n",
       "48 48        accuracy binary     0.8161071 5 0.01625689  Model48\n",
       "49 49        accuracy binary     0.8160289 5 0.01460985  Model49\n",
       "50 50        accuracy binary     0.8160289 5 0.01460985  Model50"
      ]
     },
     "metadata": {},
     "output_type": "display_data"
    }
   ],
   "source": [
    "knn_spec <- nearest_neighbor(weight_func = \"rectangular\", \n",
    "                             neighbors = tune()) %>%\n",
    "  set_engine(\"kknn\") %>%\n",
    "  set_mode(\"classification\")\n",
    "\n",
    "k_vals <- tibble(neighbors = seq(from = 1, to = 50))\n",
    "\n",
    "malnutrition_vfold <- vfold_cv(malnutrition_train, v = 5, strata = NutritnStat)\n",
    "\n",
    "recipe_both <- recipe(NutritnStat ~ ExM + Hhsize, data = malnutrition_train) %>% \n",
    "    step_scale(all_numeric()) %>%\n",
    "    step_center(all_numeric())\n",
    "\n",
    "knn_results_both <- workflow() %>%\n",
    "  add_recipe(recipe_both) %>%\n",
    "  add_model(knn_spec) %>%\n",
    "  tune_grid(resamples = malnutrition_vfold, grid = k_vals) %>%\n",
    "  collect_metrics()\n",
    "\n",
    "accuracies_both <- knn_results_both %>%\n",
    "  filter(.metric == \"accuracy\")\n",
    "accuracies_both"
   ]
  },
  {
   "cell_type": "markdown",
   "metadata": {},
   "source": [
    "*Table 1.7. K values accuracy for both Monthly Household Expenditure and Household Size*"
   ]
  },
  {
   "cell_type": "code",
   "execution_count": 102,
   "metadata": {},
   "outputs": [
    {
     "data": {
      "image/png": "[encoded data removed]",
      "text/plain": [
       "plot without title"
      ]
     },
     "metadata": {
      "image/png": {
       "height": 600,
       "width": 600
      }
     },
     "output_type": "display_data"
    }
   ],
   "source": [
    "both_k_plot <- accuracies_both %>%\n",
    "    ggplot(aes(x = neighbors, y = mean)) +\n",
    "    geom_point() +\n",
    "    geom_line() +\n",
    "    ggtitle(\"Figure 4. K Value Accuracies for both Household Size and Monthly Household Expenditure\") +\n",
    "    labs(x = \"Neighbours\", y = \"Accuracy\") +\n",
    "    theme(text = element_text(size = 13))\n",
    "both_k_plot"
   ]
  },
  {
   "cell_type": "markdown",
   "metadata": {},
   "source": [
    "K=12 looks to be a good K value, here's its accuracy:"
   ]
  },
  {
   "cell_type": "code",
   "execution_count": 61,
   "metadata": {},
   "outputs": [
    {
     "data": {
      "text/html": [
       "0.821663772589877"
      ],
      "text/latex": [
       "0.821663772589877"
      ],
      "text/markdown": [
       "0.821663772589877"
      ],
      "text/plain": [
       "[1] 0.8216638"
      ]
     },
     "metadata": {},
     "output_type": "display_data"
    }
   ],
   "source": [
    "accuracy_both <- accuracies_both %>%\n",
    "    filter(neighbors == 12) %>%\n",
    "    select(mean) %>%\n",
    "    pull()\n",
    "accuracy_both"
   ]
  },
  {
   "cell_type": "markdown",
   "metadata": {},
   "source": [
    "Based on the graph above, we can choose 12 to be our K value when predicting with both household size and expenditures per month. Using the same logic as before, this is because it has a relatively high accuracy of 82.2%, the accuracy remains relatively unchanged by changing it into a slightly lower or slightly higher k value, and it's not too high of a value that the cost of running it is too much."
   ]
  },
  {
   "cell_type": "markdown",
   "metadata": {},
   "source": [
    "**Summary**\n",
    "\n",
    "Most Accurate K value for: *Household Size* K = 11 = 81.6%\n",
    "\n",
    "Most Accurate K value for: *Monthly Household Expenditure* K = 18 = 68.8%\n",
    "\n",
    "**Most Accurate K value for both**:  *Household Size & Monthly Household Expenditure* K = 12 = 82.2%"
   ]
  },
  {
   "cell_type": "markdown",
   "metadata": {},
   "source": [
    "--------------------------------------------------------------------------------------------------------------"
   ]
  },
  {
   "cell_type": "markdown",
   "metadata": {},
   "source": [
    "Now we can train our knn model with the neighbour value we found using cross validation. First of all, we will train a model using the recipe that uses just household size as the predictor regarding the child's nutritional status. We set neighbors = 11 in our model as that was what k value we found to be the best with cross validation."
   ]
  },
  {
   "cell_type": "code",
   "execution_count": 62,
   "metadata": {},
   "outputs": [],
   "source": [
    "knn_spec_h <- nearest_neighbor(weight_func = \"rectangular\",\n",
    "                                neighbors = 11) %>% \n",
    "  set_engine(\"kknn\") %>% \n",
    "  set_mode(\"classification\")"
   ]
  },
  {
   "cell_type": "markdown",
   "metadata": {},
   "source": [
    "Using the recipe that we already created when cross validating, we can now fit everything into a workflow. We set the knn_spec_h we created with neighbors = 11 as the model and recipe_hhs as the recipe. We fit the model to our training data. \n",
    "\n",
    "*note*: training data is already scaled with the recipe"
   ]
  },
  {
   "cell_type": "code",
   "execution_count": 63,
   "metadata": {},
   "outputs": [
    {
     "data": {
      "text/plain": [
       "══ Workflow [trained] ══════════════════════════════════════════════════════════\n",
       "\u001b[3mPreprocessor:\u001b[23m Recipe\n",
       "\u001b[3mModel:\u001b[23m nearest_neighbor()\n",
       "\n",
       "── Preprocessor ────────────────────────────────────────────────────────────────\n",
       "2 Recipe Steps\n",
       "\n",
       "● step_scale()\n",
       "● step_center()\n",
       "\n",
       "── Model ───────────────────────────────────────────────────────────────────────\n",
       "\n",
       "Call:\n",
       "kknn::train.kknn(formula = ..y ~ ., data = data, ks = ~11, kernel = ~\"rectangular\")\n",
       "\n",
       "Type of response variable: nominal\n",
       "Minimal misclassification: 0.183844\n",
       "Best kernel: rectangular\n",
       "Best k: 11"
      ]
     },
     "metadata": {},
     "output_type": "display_data"
    }
   ],
   "source": [
    "fit_hhs <- workflow() %>% \n",
    "  add_recipe(recipe_hhs) %>% \n",
    "  add_model(knn_spec_h) %>% \n",
    "  fit(data = malnutrition_train)\n",
    "fit_hhs"
   ]
  },
  {
   "cell_type": "markdown",
   "metadata": {},
   "source": [
    "We can now test the accuracy of our model by testing it against our testing set. We use our model to predict our testing data and then bind the predictions (.pred_class) onto the testing dataset. We can use conf_mat to create a confusion matrix to visualize how many predictions were considered accurate. We can also use the metrics function to calculate the accuracy of the model. For both conf_mat and metrics, we specify that the truth is NutritnStat and the estimate is .pred_class."
   ]
  },
  {
   "cell_type": "code",
   "execution_count": 65,
   "metadata": {},
   "outputs": [
    {
     "data": {
      "text/plain": [
       "          Truth\n",
       "Prediction  0  1\n",
       "         0 26  2\n",
       "         1 20 70"
      ]
     },
     "metadata": {},
     "output_type": "display_data"
    },
    {
     "data": {
      "text/html": [
       "0.813559322033898"
      ],
      "text/latex": [
       "0.813559322033898"
      ],
      "text/markdown": [
       "0.813559322033898"
      ],
      "text/plain": [
       "[1] 0.8135593"
      ]
     },
     "metadata": {},
     "output_type": "display_data"
    }
   ],
   "source": [
    "predictions_hhs <- fit_hhs %>%\n",
    "    predict(malnutrition_test) %>%\n",
    "    bind_cols(malnutrition_test)\n",
    "\n",
    "confustion_hhs <- predictions_hhs %>%\n",
    "    conf_mat(truth = NutritnStat, estimate = .pred_class)\n",
    "confustion_hhs\n",
    "\n",
    "accuracy_hhs <- predictions_hhs %>%\n",
    "    metrics(truth = NutritnStat, estimate = .pred_class) %>% \n",
    "    filter(.metric == 'accuracy') %>%\n",
    "    select(.estimate) %>%\n",
    "    pull()\n",
    "accuracy_hhs"
   ]
  },
  {
   "cell_type": "markdown",
   "metadata": {},
   "source": [
    "As you can see, the accuracy of predicting a child's nutritional status with just household size, tested against the testing set, is 81.4%. Now we perform this test again but using the training set to test the accuracy of our model."
   ]
  },
  {
   "cell_type": "code",
   "execution_count": 66,
   "metadata": {},
   "outputs": [
    {
     "data": {
      "text/plain": [
       "          Truth\n",
       "Prediction   0   1\n",
       "         0  80   5\n",
       "         1  61 213"
      ]
     },
     "metadata": {},
     "output_type": "display_data"
    },
    {
     "data": {
      "text/html": [
       "0.816155988857939"
      ],
      "text/latex": [
       "0.816155988857939"
      ],
      "text/markdown": [
       "0.816155988857939"
      ],
      "text/plain": [
       "[1] 0.816156"
      ]
     },
     "metadata": {},
     "output_type": "display_data"
    }
   ],
   "source": [
    "predictions_hhs_t <- fit_hhs %>%\n",
    "    predict(malnutrition_train) %>%\n",
    "    bind_cols(malnutrition_train)\n",
    "\n",
    "confustion_hhs_t <- predictions_hhs_t %>%\n",
    "    conf_mat(truth = NutritnStat, estimate = .pred_class)\n",
    "confustion_hhs_t\n",
    "\n",
    "accuracy_hhs_t <- predictions_hhs_t %>%\n",
    "    metrics(truth = NutritnStat, estimate = .pred_class) %>% \n",
    "    filter(.metric == 'accuracy') %>%\n",
    "    select(.estimate) %>%\n",
    "    pull()\n",
    "accuracy_hhs_t"
   ]
  },
  {
   "cell_type": "markdown",
   "metadata": {},
   "source": [
    "The accuracy of predicting a child's nutritional status with just household size, tested against the training set, is 81.6%."
   ]
  },
  {
   "cell_type": "markdown",
   "metadata": {},
   "source": [
    "**Summary**\n",
    "\n",
    "Comparing accuracy of K = 11 for only Household Size: \n",
    "\n",
    "Training: **81.6%**\n",
    "\n",
    "Testing: **81.4%**\n"
   ]
  },
  {
   "cell_type": "markdown",
   "metadata": {},
   "source": [
    "--------------------------------------------------------------------------------------------------------------"
   ]
  },
  {
   "cell_type": "markdown",
   "metadata": {},
   "source": [
    "Now we train a different model with recipe (recipe_exm) that specifies that the child's nutritional status will be predicted with just the family's monthly expenditures, trained by the training set. We set neighbours = 18 within the model because that was our best K value as proven by cross validation. We follow the same procedure as we did with household size."
   ]
  },
  {
   "cell_type": "code",
   "execution_count": 67,
   "metadata": {},
   "outputs": [
    {
     "data": {
      "text/plain": [
       "══ Workflow [trained] ══════════════════════════════════════════════════════════\n",
       "\u001b[3mPreprocessor:\u001b[23m Recipe\n",
       "\u001b[3mModel:\u001b[23m nearest_neighbor()\n",
       "\n",
       "── Preprocessor ────────────────────────────────────────────────────────────────\n",
       "2 Recipe Steps\n",
       "\n",
       "● step_scale()\n",
       "● step_center()\n",
       "\n",
       "── Model ───────────────────────────────────────────────────────────────────────\n",
       "\n",
       "Call:\n",
       "kknn::train.kknn(formula = ..y ~ ., data = data, ks = ~18, kernel = ~\"rectangular\")\n",
       "\n",
       "Type of response variable: nominal\n",
       "Minimal misclassification: 0.2980501\n",
       "Best kernel: rectangular\n",
       "Best k: 18"
      ]
     },
     "metadata": {},
     "output_type": "display_data"
    }
   ],
   "source": [
    "knn_spec_e <- nearest_neighbor(weight_func = \"rectangular\",\n",
    "                               neighbors = 18) %>% \n",
    "  set_engine(\"kknn\") %>% \n",
    "  set_mode(\"classification\")\n",
    "\n",
    "fit_exm <- workflow() %>% \n",
    "  add_recipe(recipe_exm) %>% \n",
    "  add_model(knn_spec_e) %>% \n",
    "  fit(data = malnutrition_train)\n",
    "fit_exm"
   ]
  },
  {
   "cell_type": "markdown",
   "metadata": {},
   "source": [
    "Using the same procedure as we did with the household size model, we can now see the accuracy and confusion matrix for the model by testing it against the testing set."
   ]
  },
  {
   "cell_type": "code",
   "execution_count": 68,
   "metadata": {},
   "outputs": [
    {
     "data": {
      "text/plain": [
       "          Truth\n",
       "Prediction  0  1\n",
       "         0 29 18\n",
       "         1 17 54"
      ]
     },
     "metadata": {},
     "output_type": "display_data"
    },
    {
     "data": {
      "text/html": [
       "0.703389830508475"
      ],
      "text/latex": [
       "0.703389830508475"
      ],
      "text/markdown": [
       "0.703389830508475"
      ],
      "text/plain": [
       "[1] 0.7033898"
      ]
     },
     "metadata": {},
     "output_type": "display_data"
    }
   ],
   "source": [
    "predictions_exm <- fit_exm %>%\n",
    "    predict(malnutrition_test) %>%\n",
    "    bind_cols(malnutrition_test)\n",
    "\n",
    "confustion_exm <- predictions_exm %>%\n",
    "    conf_mat(truth = NutritnStat, estimate = .pred_class)\n",
    "confustion_exm\n",
    "\n",
    "accuracy_exm <- predictions_exm %>%\n",
    "    metrics(truth = NutritnStat, estimate = .pred_class) %>% \n",
    "    filter(.metric == 'accuracy') %>%\n",
    "    select(.estimate) %>%\n",
    "    pull()\n",
    "accuracy_exm"
   ]
  },
  {
   "cell_type": "markdown",
   "metadata": {},
   "source": [
    "Accuracy is 70.3%, much lower than the accuracy of the household size model (81.4%). Now we calculate the accuracy and confusion matrix of the model using the training set."
   ]
  },
  {
   "cell_type": "code",
   "execution_count": 69,
   "metadata": {},
   "outputs": [
    {
     "data": {
      "text/plain": [
       "          Truth\n",
       "Prediction   0   1\n",
       "         0  80  41\n",
       "         1  61 177"
      ]
     },
     "metadata": {},
     "output_type": "display_data"
    },
    {
     "data": {
      "text/html": [
       "0.715877437325905"
      ],
      "text/latex": [
       "0.715877437325905"
      ],
      "text/markdown": [
       "0.715877437325905"
      ],
      "text/plain": [
       "[1] 0.7158774"
      ]
     },
     "metadata": {},
     "output_type": "display_data"
    }
   ],
   "source": [
    "predictions_exm_t <- fit_exm %>%\n",
    "    predict(malnutrition_train) %>%\n",
    "    bind_cols(malnutrition_train)\n",
    "\n",
    "confustion_exm_t <- predictions_exm_t %>%\n",
    "    conf_mat(truth = NutritnStat, estimate = .pred_class)\n",
    "confustion_exm_t\n",
    "\n",
    "accuracy_exm_t <- predictions_exm_t %>%\n",
    "    metrics(truth = NutritnStat, estimate = .pred_class) %>% \n",
    "    filter(.metric == 'accuracy') %>%\n",
    "    select(.estimate) %>% \n",
    "    pull()\n",
    "accuracy_exm_t"
   ]
  },
  {
   "cell_type": "markdown",
   "metadata": {},
   "source": [
    "Accuracy is 71.6%, lower than the household size model with 81.6%."
   ]
  },
  {
   "cell_type": "markdown",
   "metadata": {},
   "source": [
    "**Summary**\n",
    "\n",
    "Comparing accuracy of K = 18 for only Monthly Household Expenditure: \n",
    "\n",
    "Training: **71.6%**\n",
    "\n",
    "Testing: **70.3%**\n"
   ]
  },
  {
   "cell_type": "markdown",
   "metadata": {},
   "source": [
    "--------------------------------------------------------------------------------------------------------------"
   ]
  },
  {
   "cell_type": "markdown",
   "metadata": {},
   "source": [
    "Now we repeat this whole procedure again with a model that uses both household size and expenditures per month as predictors regarding the child's nutritional status (recipe_both). Neighbors is set to 12 as we calculated it to be the best K value for this specific recipe using cross validation. "
   ]
  },
  {
   "cell_type": "code",
   "execution_count": 70,
   "metadata": {},
   "outputs": [
    {
     "data": {
      "text/plain": [
       "══ Workflow [trained] ══════════════════════════════════════════════════════════\n",
       "\u001b[3mPreprocessor:\u001b[23m Recipe\n",
       "\u001b[3mModel:\u001b[23m nearest_neighbor()\n",
       "\n",
       "── Preprocessor ────────────────────────────────────────────────────────────────\n",
       "2 Recipe Steps\n",
       "\n",
       "● step_scale()\n",
       "● step_center()\n",
       "\n",
       "── Model ───────────────────────────────────────────────────────────────────────\n",
       "\n",
       "Call:\n",
       "kknn::train.kknn(formula = ..y ~ ., data = data, ks = ~12, kernel = ~\"rectangular\")\n",
       "\n",
       "Type of response variable: nominal\n",
       "Minimal misclassification: 0.1727019\n",
       "Best kernel: rectangular\n",
       "Best k: 12"
      ]
     },
     "metadata": {},
     "output_type": "display_data"
    }
   ],
   "source": [
    "knn_spec_b <- nearest_neighbor(weight_func = \"rectangular\",\n",
    "                               neighbors = 12) %>% \n",
    "  set_engine(\"kknn\") %>% \n",
    "  set_mode(\"classification\")\n",
    "\n",
    "recipe_both <- recipe(NutritnStat ~ ExM + Hhsize, data = malnutrition_train) %>% \n",
    "    step_scale(all_numeric()) %>% \n",
    "    step_center(all_numeric())\n",
    "\n",
    "fit_both <- workflow() %>% \n",
    "  add_recipe(recipe_both) %>% \n",
    "  add_model(knn_spec_b) %>% \n",
    "  fit(data = malnutrition_train)\n",
    "fit_both"
   ]
  },
  {
   "cell_type": "markdown",
   "metadata": {},
   "source": [
    "Using the same procedure as we did with the previous models, we can now see the accuracy and confusion matrix for this model by testing it against the testing set."
   ]
  },
  {
   "cell_type": "code",
   "execution_count": 71,
   "metadata": {},
   "outputs": [
    {
     "data": {
      "text/plain": [
       "          Truth\n",
       "Prediction  0  1\n",
       "         0 30  2\n",
       "         1 16 70"
      ]
     },
     "metadata": {},
     "output_type": "display_data"
    },
    {
     "data": {
      "text/html": [
       "0.847457627118644"
      ],
      "text/latex": [
       "0.847457627118644"
      ],
      "text/markdown": [
       "0.847457627118644"
      ],
      "text/plain": [
       "[1] 0.8474576"
      ]
     },
     "metadata": {},
     "output_type": "display_data"
    }
   ],
   "source": [
    "predictions_both <- fit_both %>%\n",
    "    predict(malnutrition_test) %>%\n",
    "    bind_cols(malnutrition_test)\n",
    "\n",
    "confustion_both <- predictions_both %>%\n",
    "    conf_mat(truth = NutritnStat, estimate = .pred_class)\n",
    "confustion_both\n",
    "\n",
    "accuracy_both <- predictions_both %>%\n",
    "    metrics(truth = NutritnStat, estimate = .pred_class) %>% \n",
    "    filter(.metric == 'accuracy') %>%\n",
    "    select(.estimate) %>%\n",
    "    pull()\n",
    "accuracy_both"
   ]
  },
  {
   "cell_type": "markdown",
   "metadata": {},
   "source": [
    "Accuracy is 84.7%, the highest model accuracy for testing out of the household size model (81.4%) and expenditure per month model (70.3%). We  now calculate the accuracy and confusion matrix for the training set."
   ]
  },
  {
   "cell_type": "code",
   "execution_count": 72,
   "metadata": {},
   "outputs": [
    {
     "data": {
      "text/plain": [
       "          Truth\n",
       "Prediction   0   1\n",
       "         0  86   5\n",
       "         1  55 213"
      ]
     },
     "metadata": {},
     "output_type": "display_data"
    },
    {
     "data": {
      "text/html": [
       "0.832869080779944"
      ],
      "text/latex": [
       "0.832869080779944"
      ],
      "text/markdown": [
       "0.832869080779944"
      ],
      "text/plain": [
       "[1] 0.8328691"
      ]
     },
     "metadata": {},
     "output_type": "display_data"
    }
   ],
   "source": [
    "predictions_both_t <- fit_both %>%\n",
    "    predict(malnutrition_train) %>%\n",
    "    bind_cols(malnutrition_train)\n",
    "\n",
    "confustion_both_t <- predictions_both_t %>%\n",
    "    conf_mat(truth = NutritnStat, estimate = .pred_class)\n",
    "confustion_both_t\n",
    "\n",
    "accuracy_both_t <- predictions_both_t %>%\n",
    "    metrics(truth = NutritnStat, estimate = .pred_class) %>% \n",
    "    filter(.metric == 'accuracy') %>%\n",
    "    select(.estimate) %>%\n",
    "    pull()\n",
    "accuracy_both_t"
   ]
  },
  {
   "cell_type": "markdown",
   "metadata": {},
   "source": [
    "Accuracy is 83.3%, the highest model accuracy for training out of household size model (81.6%) and expenditure per month model (71.6%)."
   ]
  },
  {
   "cell_type": "markdown",
   "metadata": {},
   "source": [
    "**Summary**\n",
    "\n",
    "Comparing accuracy of K = 12 for both Monthly Household Expenditure and Household Size: \n",
    "\n",
    "Training: **83.3%**\n",
    "\n",
    "Testing: **84.7%**\n"
   ]
  },
  {
   "cell_type": "markdown",
   "metadata": {},
   "source": [
    "Now if we plot each accuracy against each other per model we can see how the models compare in accuracy:"
   ]
  },
  {
   "cell_type": "code",
   "execution_count": 6,
   "metadata": {},
   "outputs": [
    {
     "data": {
      "text/html": [
       "<table>\n",
       "<caption>A matrix: 6 × 1 of type dbl</caption>\n",
       "<tbody>\n",
       "\t<tr><td>0.7</td></tr>\n",
       "\t<tr><td>1.9</td></tr>\n",
       "\t<tr><td>3.1</td></tr>\n",
       "\t<tr><td>4.3</td></tr>\n",
       "\t<tr><td>5.5</td></tr>\n",
       "\t<tr><td>6.7</td></tr>\n",
       "</tbody>\n",
       "</table>\n"
      ],
      "text/latex": [
       "A matrix: 6 × 1 of type dbl\n",
       "\\begin{tabular}{l}\n",
       "\t 0.7\\\\\n",
       "\t 1.9\\\\\n",
       "\t 3.1\\\\\n",
       "\t 4.3\\\\\n",
       "\t 5.5\\\\\n",
       "\t 6.7\\\\\n",
       "\\end{tabular}\n"
      ],
      "text/markdown": [
       "\n",
       "A matrix: 6 × 1 of type dbl\n",
       "\n",
       "| 0.7 |\n",
       "| 1.9 |\n",
       "| 3.1 |\n",
       "| 4.3 |\n",
       "| 5.5 |\n",
       "| 6.7 |\n",
       "\n"
      ],
      "text/plain": [
       "     [,1]\n",
       "[1,] 0.7 \n",
       "[2,] 1.9 \n",
       "[3,] 3.1 \n",
       "[4,] 4.3 \n",
       "[5,] 5.5 \n",
       "[6,] 6.7 "
      ]
     },
     "metadata": {},
     "output_type": "display_data"
    },
    {
     "data": {
      "image/png": "[encoded data removed]",
      "text/plain": [
       "Plot with title “Figure 5. Accuracy per Model”"
      ]
     },
     "metadata": {
      "image/png": {
       "height": 480,
       "width": 1080
      }
     },
     "output_type": "display_data"
    }
   ],
   "source": [
    "options(repr.plot.width=18, repr.plot.height=8)\n",
    "x <- c(\"Both: Training\", \"Both: Testing\", \"Household Size: Training\", \"Household Size: Testing\", \"Monthly Expenditures: Training\",\n",
    "            \"Monthly Expenditures: Testing\") \n",
    "             \n",
    "nutritnstat <- c(83.3, 84.7, 81.6, 81.4, 71.6, 70.3)\n",
    "\n",
    "comparison_accuracy <- barplot(nutritnstat,names.arg=x, main=\"Figure 5. Accuracy per Model\", col=c(\"lightblue\")) \n",
    "comparison_accuracy\n"
   ]
  },
  {
   "cell_type": "markdown",
   "metadata": {},
   "source": [
    "--------------------------------------------------------------------------------------------------------------"
   ]
  },
  {
   "cell_type": "markdown",
   "metadata": {},
   "source": [
    "**Discussion**:\n",
    "\n",
    "In summary, using classification algoriths we found that both household size and household expenditure per month were relatiely good quantitative variables to predict the malnutrition level of children under the age of 5. As shown above, Household Size (**K = 11**) proved to be a better predictor yielding higher predictor accuracies for both the Testing (**81.4%**) and Training (**81.6%**) sets in comparison to the Testing (**70.3%**) and Training (**71.6%**) sets for Monthly Household Expenditure (**K = 18**). Nonetheless, both quantitative variables put together (**K = 18**) yielded an accuracy of **83.3%** for the Training set and an accuracy of **84.7%** for the Testing set. All in all, these two  variables gave a relatively high accuracy of **83.3%** which indicates a reliable classifier. \n",
    "\n",
    "As a result, we can accurately conclude that as both monthly household expenditure and household size increases, the more likely the child is to be mal-nourished. This somewhat contradicts our originial expectations that were: \"We expect to see a greater proportion of malnutrition in children within large families with **low monthly household expenditure**\". \n",
    "\n",
    "Using this knowledge, we can produce and implement technologies and raise awareness that allow us to begin helping these families better nourish their children. We could raise awarness towards an optimum family size and thus help provide more personalized resources to each family to aid in preventing child malnutrition. With regard to monthly expenditure, we could give guidance to families with respect to better nutriotional lifestyles and financial allocation. For example, we can educate families on the usage of birth control to limit family size. We can teach families how to better spend their money so that their children can be well fed. \n",
    "\n",
    "Some questions that this could generate:\n",
    "Is having a larger household size more beneficial to third-world country families with low monthly household expenditure?\n",
    "Would looking at different age groups or different locations yield different results? \n",
    "What strategies can we use to better help these families feed their children?\n",
    "What is the optimum household size to monthly expenditure ratio?"
   ]
  },
  {
   "cell_type": "markdown",
   "metadata": {},
   "source": [
    "References:\n",
    "- Umeokonkwo, A. A., Ibekwe, M. U., Umeokonkwo, C. D., Okike, C. O., Ezeanosike, O. B., & Ibe, B. C. (2020). Nutritional status of school age children in Abakaliki Metropolis, Ebonyi State, Nigeria. BMC Pediatrics, 20(1). https://doi.org/10.1186/s12887-020-1994-5\n",
    "\n",
    "- Ogunlesi, T., Ayeni, V., Adekanmbi, A., & Fetuga, B. (2014). Determinants of timely initiation of complementary feeding among children aged 6-24 months in Sagamu, Nigeria. Nigerian Journal of Clinical Practice, 17(6), 785. https://link.gale.com/apps/doc/A392270381/HRCA?u=ubcolumbia&sid=summon&xid=e26bca75\n",
    "\n",
    "- Wolde, M., Berhan, Y., & Chala, A. (2015). Determinants of underweight, stunting and wasting among schoolchildren. BMC Public Health, 15(1). https://doi.org/10.1186/s12889-014-1337-2\n",
    "\n",
    "Dataset Reference:\n",
    "- Adeyonu, A. (2020, May 24). Replication data for: Microsoft Excel Data. Harvard Dataverse. Retrieved March 12, 2022, from https://doi.org/10.7910/DVN/FFNBFT"
   ]
  }
 ],
 "metadata": {
  "kernelspec": {
   "display_name": "R",
   "language": "R",
   "name": "ir"
  },
  "language_info": {
   "codemirror_mode": "r",
   "file_extension": ".r",
   "mimetype": "text/x-r-source",
   "name": "R",
   "pygments_lexer": "r",
   "version": "4.0.0"
  }
 },
 "nbformat": 4,
 "nbformat_minor": 4
}
