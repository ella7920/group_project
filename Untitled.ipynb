{
 "cells": [
  {
   "cell_type": "code",
   "execution_count": 1,
   "metadata": {},
   "outputs": [
    {
     "name": "stderr",
     "output_type": "stream",
     "text": [
      "── \u001b[1mAttaching packages\u001b[22m ─────────────────────────────────────── tidyverse 1.3.0 ──\n",
      "\n",
      "\u001b[32m✔\u001b[39m \u001b[34mggplot2\u001b[39m 3.3.2     \u001b[32m✔\u001b[39m \u001b[34mpurrr  \u001b[39m 0.3.4\n",
      "\u001b[32m✔\u001b[39m \u001b[34mtibble \u001b[39m 3.0.3     \u001b[32m✔\u001b[39m \u001b[34mdplyr  \u001b[39m 1.0.2\n",
      "\u001b[32m✔\u001b[39m \u001b[34mtidyr  \u001b[39m 1.1.2     \u001b[32m✔\u001b[39m \u001b[34mstringr\u001b[39m 1.4.0\n",
      "\u001b[32m✔\u001b[39m \u001b[34mreadr  \u001b[39m 1.3.1     \u001b[32m✔\u001b[39m \u001b[34mforcats\u001b[39m 0.5.0\n",
      "\n",
      "Warning message:\n",
      "“package ‘ggplot2’ was built under R version 4.0.1”\n",
      "Warning message:\n",
      "“package ‘tibble’ was built under R version 4.0.2”\n",
      "Warning message:\n",
      "“package ‘tidyr’ was built under R version 4.0.2”\n",
      "Warning message:\n",
      "“package ‘dplyr’ was built under R version 4.0.2”\n",
      "── \u001b[1mConflicts\u001b[22m ────────────────────────────────────────── tidyverse_conflicts() ──\n",
      "\u001b[31m✖\u001b[39m \u001b[34mdplyr\u001b[39m::\u001b[32mfilter()\u001b[39m masks \u001b[34mstats\u001b[39m::filter()\n",
      "\u001b[31m✖\u001b[39m \u001b[34mdplyr\u001b[39m::\u001b[32mlag()\u001b[39m    masks \u001b[34mstats\u001b[39m::lag()\n",
      "\n",
      "Warning message:\n",
      "“package ‘tidymodels’ was built under R version 4.0.2”\n",
      "── \u001b[1mAttaching packages\u001b[22m ────────────────────────────────────── tidymodels 0.1.1 ──\n",
      "\n",
      "\u001b[32m✔\u001b[39m \u001b[34mbroom    \u001b[39m 0.7.0      \u001b[32m✔\u001b[39m \u001b[34mrecipes  \u001b[39m 0.1.13\n",
      "\u001b[32m✔\u001b[39m \u001b[34mdials    \u001b[39m 0.0.9      \u001b[32m✔\u001b[39m \u001b[34mrsample  \u001b[39m 0.0.7 \n",
      "\u001b[32m✔\u001b[39m \u001b[34minfer    \u001b[39m 0.5.4      \u001b[32m✔\u001b[39m \u001b[34mtune     \u001b[39m 0.1.1 \n",
      "\u001b[32m✔\u001b[39m \u001b[34mmodeldata\u001b[39m 0.0.2      \u001b[32m✔\u001b[39m \u001b[34mworkflows\u001b[39m 0.2.0 \n",
      "\u001b[32m✔\u001b[39m \u001b[34mparsnip  \u001b[39m 0.1.3      \u001b[32m✔\u001b[39m \u001b[34myardstick\u001b[39m 0.0.7 \n",
      "\n",
      "Warning message:\n",
      "“package ‘broom’ was built under R version 4.0.2”\n",
      "Warning message:\n",
      "“package ‘dials’ was built under R version 4.0.2”\n",
      "Warning message:\n",
      "“package ‘infer’ was built under R version 4.0.3”\n",
      "Warning message:\n",
      "“package ‘modeldata’ was built under R version 4.0.1”\n",
      "Warning message:\n",
      "“package ‘parsnip’ was built under R version 4.0.2”\n",
      "Warning message:\n",
      "“package ‘recipes’ was built under R version 4.0.1”\n",
      "Warning message:\n",
      "“package ‘tune’ was built under R version 4.0.2”\n",
      "Warning message:\n",
      "“package ‘workflows’ was built under R version 4.0.2”\n",
      "Warning message:\n",
      "“package ‘yardstick’ was built under R version 4.0.2”\n",
      "── \u001b[1mConflicts\u001b[22m ───────────────────────────────────────── tidymodels_conflicts() ──\n",
      "\u001b[31m✖\u001b[39m \u001b[34mscales\u001b[39m::\u001b[32mdiscard()\u001b[39m masks \u001b[34mpurrr\u001b[39m::discard()\n",
      "\u001b[31m✖\u001b[39m \u001b[34mdplyr\u001b[39m::\u001b[32mfilter()\u001b[39m   masks \u001b[34mstats\u001b[39m::filter()\n",
      "\u001b[31m✖\u001b[39m \u001b[34mrecipes\u001b[39m::\u001b[32mfixed()\u001b[39m  masks \u001b[34mstringr\u001b[39m::fixed()\n",
      "\u001b[31m✖\u001b[39m \u001b[34mdplyr\u001b[39m::\u001b[32mlag()\u001b[39m      masks \u001b[34mstats\u001b[39m::lag()\n",
      "\u001b[31m✖\u001b[39m \u001b[34myardstick\u001b[39m::\u001b[32mspec()\u001b[39m masks \u001b[34mreadr\u001b[39m::spec()\n",
      "\u001b[31m✖\u001b[39m \u001b[34mrecipes\u001b[39m::\u001b[32mstep()\u001b[39m   masks \u001b[34mstats\u001b[39m::step()\n",
      "\n",
      "Warning message in file(filename, \"r\", encoding = encoding):\n",
      "“cannot open file 'tests.R': No such file or directory”\n"
     ]
    },
    {
     "ename": "ERROR",
     "evalue": "Error in file(filename, \"r\", encoding = encoding): cannot open the connection\n",
     "output_type": "error",
     "traceback": [
      "Error in file(filename, \"r\", encoding = encoding): cannot open the connection\nTraceback:\n",
      "1. source(\"tests.R\")",
      "2. file(filename, \"r\", encoding = encoding)"
     ]
    }
   ],
   "source": [
    "library(tidyverse)\n",
    "library(repr)\n",
    "library(tidymodels)\n",
    "options(repr.matrix.max.rows = 6)\n",
    "source('tests.R')\n",
    "source('cleanup.R')"
   ]
  },
  {
   "cell_type": "markdown",
   "metadata": {},
   "source": [
    "Most prevalent in developing countries, such as Nigeria, child malnutrition is commonplace and unavoidable. 1 in 4 children under 5 are considered to be malnutritioned or stunted. This greatly stunts their growth and damages their brain development. A survey taken in May of 2020 can be accessed on the Harvard Database regarding Abigail Adeyonu’s research on determinants of malnutrition. A questionnaire was passed out to families of southwest Nigeria who had children under 5. Many questions were asked, including but not limited to the categories of the family’s socioeconomic characteristics, the mother’s characteristics, background information of the community, and the child’s characteristics, namely their nutritional status.  Nutritional status is represented as: 1 = well nourished, 2 = at risk, 0 = malnutritioned.  While many factors are present that can be used to predict the child’s nutritional status, we will be focusing on the size of the household and the household’s monthly expenditures. The question we will be answering is: can we use the household size and monthly household expenditure of a family in Southwest Nigeria to predict the nutritional status of the child? "
   ]
  },
  {
   "cell_type": "markdown",
   "metadata": {},
   "source": [
    "Data analysis will be done on the columns household size and monthly household expenditure, both of these will be used to predict the child’s malnutrition status. The data would be standardized so that we can accurately predict the child’s nutritional status. "
   ]
  },
  {
   "cell_type": "code",
   "execution_count": 15,
   "metadata": {},
   "outputs": [
    {
     "name": "stderr",
     "output_type": "stream",
     "text": [
      "Parsed with column specification:\n",
      "cols(\n",
      "  .default = col_double()\n",
      ")\n",
      "\n",
      "See spec(...) for full column specifications.\n",
      "\n"
     ]
    },
    {
     "data": {
      "text/html": [
       "<table>\n",
       "<caption>A tibble: 487 × 3</caption>\n",
       "<thead>\n",
       "\t<tr><th scope=col>Hhsize</th><th scope=col>ExM</th><th scope=col>NutritnStat</th></tr>\n",
       "\t<tr><th scope=col>&lt;dbl&gt;</th><th scope=col>&lt;dbl&gt;</th><th scope=col>&lt;dbl&gt;</th></tr>\n",
       "</thead>\n",
       "<tbody>\n",
       "\t<tr><td>7</td><td>69800</td><td>1</td></tr>\n",
       "\t<tr><td>5</td><td>87000</td><td>1</td></tr>\n",
       "\t<tr><td>8</td><td>77300</td><td>1</td></tr>\n",
       "\t<tr><td>⋮</td><td>⋮</td><td>⋮</td></tr>\n",
       "\t<tr><td> 6</td><td>65000</td><td>1</td></tr>\n",
       "\t<tr><td>12</td><td>84000</td><td>0</td></tr>\n",
       "\t<tr><td> 5</td><td>45000</td><td>1</td></tr>\n",
       "</tbody>\n",
       "</table>\n"
      ],
      "text/latex": [
       "A tibble: 487 × 3\n",
       "\\begin{tabular}{lll}\n",
       " Hhsize & ExM & NutritnStat\\\\\n",
       " <dbl> & <dbl> & <dbl>\\\\\n",
       "\\hline\n",
       "\t 7 & 69800 & 1\\\\\n",
       "\t 5 & 87000 & 1\\\\\n",
       "\t 8 & 77300 & 1\\\\\n",
       "\t ⋮ & ⋮ & ⋮\\\\\n",
       "\t  6 & 65000 & 1\\\\\n",
       "\t 12 & 84000 & 0\\\\\n",
       "\t  5 & 45000 & 1\\\\\n",
       "\\end{tabular}\n"
      ],
      "text/markdown": [
       "\n",
       "A tibble: 487 × 3\n",
       "\n",
       "| Hhsize &lt;dbl&gt; | ExM &lt;dbl&gt; | NutritnStat &lt;dbl&gt; |\n",
       "|---|---|---|\n",
       "| 7 | 69800 | 1 |\n",
       "| 5 | 87000 | 1 |\n",
       "| 8 | 77300 | 1 |\n",
       "| ⋮ | ⋮ | ⋮ |\n",
       "|  6 | 65000 | 1 |\n",
       "| 12 | 84000 | 0 |\n",
       "|  5 | 45000 | 1 |\n",
       "\n"
      ],
      "text/plain": [
       "    Hhsize ExM   NutritnStat\n",
       "1   7      69800 1          \n",
       "2   5      87000 1          \n",
       "3   8      77300 1          \n",
       "⋮   ⋮      ⋮     ⋮          \n",
       "485  6     65000 1          \n",
       "486 12     84000 0          \n",
       "487  5     45000 1          "
      ]
     },
     "metadata": {},
     "output_type": "display_data"
    }
   ],
   "source": [
    "malnutrition_data <- read_tsv(\"/home/jupyter/group_project/Child's malnutrition Data note.tab\") %>% \n",
    "                     select(\"Hhsize\", \"Expenditur/mon\", \"NutritnStat\") %>% rename(\"ExM\" = \"Expenditur/mon\")\n",
    "malnutrition_data"
   ]
  },
  {
   "cell_type": "code",
   "execution_count": 16,
   "metadata": {},
   "outputs": [
    {
     "name": "stderr",
     "output_type": "stream",
     "text": [
      "`summarise()` ungrouping output (override with `.groups` argument)\n",
      "\n"
     ]
    },
    {
     "data": {
      "text/html": [
       "<table>\n",
       "<caption>A tibble: 3 × 2</caption>\n",
       "<thead>\n",
       "\t<tr><th scope=col>NutritnStat</th><th scope=col>count</th></tr>\n",
       "\t<tr><th scope=col>&lt;dbl&gt;</th><th scope=col>&lt;int&gt;</th></tr>\n",
       "</thead>\n",
       "<tbody>\n",
       "\t<tr><td>0</td><td>187</td></tr>\n",
       "\t<tr><td>1</td><td>290</td></tr>\n",
       "\t<tr><td>2</td><td> 10</td></tr>\n",
       "</tbody>\n",
       "</table>\n"
      ],
      "text/latex": [
       "A tibble: 3 × 2\n",
       "\\begin{tabular}{ll}\n",
       " NutritnStat & count\\\\\n",
       " <dbl> & <int>\\\\\n",
       "\\hline\n",
       "\t 0 & 187\\\\\n",
       "\t 1 & 290\\\\\n",
       "\t 2 &  10\\\\\n",
       "\\end{tabular}\n"
      ],
      "text/markdown": [
       "\n",
       "A tibble: 3 × 2\n",
       "\n",
       "| NutritnStat &lt;dbl&gt; | count &lt;int&gt; |\n",
       "|---|---|\n",
       "| 0 | 187 |\n",
       "| 1 | 290 |\n",
       "| 2 |  10 |\n",
       "\n"
      ],
      "text/plain": [
       "  NutritnStat count\n",
       "1 0           187  \n",
       "2 1           290  \n",
       "3 2            10  "
      ]
     },
     "metadata": {},
     "output_type": "display_data"
    }
   ],
   "source": [
    "malnutrition_count <- malnutrition_data %>% group_by(NutritnStat) %>% \n",
    "                     summarize(count=n())\n",
    "malnutrition_count"
   ]
  },
  {
   "cell_type": "markdown",
   "metadata": {},
   "source": [
    "Because there are only 10 children who are marked \"at risk\" and this category is not necessary for our classification of malnutritioned vs healthy, we are going to get rid of these observations so that the count of each vairable are closer to equal"
   ]
  },
  {
   "cell_type": "code",
   "execution_count": 23,
   "metadata": {},
   "outputs": [
    {
     "data": {
      "text/html": [
       "<table>\n",
       "<caption>A tibble: 477 × 3</caption>\n",
       "<thead>\n",
       "\t<tr><th scope=col>Hhsize</th><th scope=col>ExM</th><th scope=col>NutritnStat</th></tr>\n",
       "\t<tr><th scope=col>&lt;dbl&gt;</th><th scope=col>&lt;dbl&gt;</th><th scope=col>&lt;fct&gt;</th></tr>\n",
       "</thead>\n",
       "<tbody>\n",
       "\t<tr><td>7</td><td>69800</td><td>1</td></tr>\n",
       "\t<tr><td>5</td><td>87000</td><td>1</td></tr>\n",
       "\t<tr><td>8</td><td>77300</td><td>1</td></tr>\n",
       "\t<tr><td>⋮</td><td>⋮</td><td>⋮</td></tr>\n",
       "\t<tr><td> 6</td><td>65000</td><td>1</td></tr>\n",
       "\t<tr><td>12</td><td>84000</td><td>0</td></tr>\n",
       "\t<tr><td> 5</td><td>45000</td><td>1</td></tr>\n",
       "</tbody>\n",
       "</table>\n"
      ],
      "text/latex": [
       "A tibble: 477 × 3\n",
       "\\begin{tabular}{lll}\n",
       " Hhsize & ExM & NutritnStat\\\\\n",
       " <dbl> & <dbl> & <fct>\\\\\n",
       "\\hline\n",
       "\t 7 & 69800 & 1\\\\\n",
       "\t 5 & 87000 & 1\\\\\n",
       "\t 8 & 77300 & 1\\\\\n",
       "\t ⋮ & ⋮ & ⋮\\\\\n",
       "\t  6 & 65000 & 1\\\\\n",
       "\t 12 & 84000 & 0\\\\\n",
       "\t  5 & 45000 & 1\\\\\n",
       "\\end{tabular}\n"
      ],
      "text/markdown": [
       "\n",
       "A tibble: 477 × 3\n",
       "\n",
       "| Hhsize &lt;dbl&gt; | ExM &lt;dbl&gt; | NutritnStat &lt;fct&gt; |\n",
       "|---|---|---|\n",
       "| 7 | 69800 | 1 |\n",
       "| 5 | 87000 | 1 |\n",
       "| 8 | 77300 | 1 |\n",
       "| ⋮ | ⋮ | ⋮ |\n",
       "|  6 | 65000 | 1 |\n",
       "| 12 | 84000 | 0 |\n",
       "|  5 | 45000 | 1 |\n",
       "\n"
      ],
      "text/plain": [
       "    Hhsize ExM   NutritnStat\n",
       "1   7      69800 1          \n",
       "2   5      87000 1          \n",
       "3   8      77300 1          \n",
       "⋮   ⋮      ⋮     ⋮          \n",
       "475  6     65000 1          \n",
       "476 12     84000 0          \n",
       "477  5     45000 1          "
      ]
     },
     "metadata": {},
     "output_type": "display_data"
    }
   ],
   "source": [
    "malnutrition_data_2 <- malnutrition_data %>% filter(NutritnStat<2) %>% mutate(NutritnStat = as_factor(NutritnStat))\n",
    "malnutrition_data_2"
   ]
  },
  {
   "cell_type": "markdown",
   "metadata": {},
   "source": [
    "This is our data in a tidy format. Now we will split the data into our training set. "
   ]
  },
  {
   "cell_type": "code",
   "execution_count": 24,
   "metadata": {},
   "outputs": [
    {
     "data": {
      "text/html": [
       "<table>\n",
       "<caption>A tibble: 359 × 3</caption>\n",
       "<thead>\n",
       "\t<tr><th scope=col>Hhsize</th><th scope=col>ExM</th><th scope=col>NutritnStat</th></tr>\n",
       "\t<tr><th scope=col>&lt;dbl&gt;</th><th scope=col>&lt;dbl&gt;</th><th scope=col>&lt;fct&gt;</th></tr>\n",
       "</thead>\n",
       "<tbody>\n",
       "\t<tr><td>5</td><td>87000</td><td>1</td></tr>\n",
       "\t<tr><td>8</td><td>77300</td><td>1</td></tr>\n",
       "\t<tr><td>8</td><td>90000</td><td>1</td></tr>\n",
       "\t<tr><td>⋮</td><td>⋮</td><td>⋮</td></tr>\n",
       "\t<tr><td> 3</td><td>47900</td><td>1</td></tr>\n",
       "\t<tr><td>12</td><td>84000</td><td>0</td></tr>\n",
       "\t<tr><td> 5</td><td>45000</td><td>1</td></tr>\n",
       "</tbody>\n",
       "</table>\n"
      ],
      "text/latex": [
       "A tibble: 359 × 3\n",
       "\\begin{tabular}{lll}\n",
       " Hhsize & ExM & NutritnStat\\\\\n",
       " <dbl> & <dbl> & <fct>\\\\\n",
       "\\hline\n",
       "\t 5 & 87000 & 1\\\\\n",
       "\t 8 & 77300 & 1\\\\\n",
       "\t 8 & 90000 & 1\\\\\n",
       "\t ⋮ & ⋮ & ⋮\\\\\n",
       "\t  3 & 47900 & 1\\\\\n",
       "\t 12 & 84000 & 0\\\\\n",
       "\t  5 & 45000 & 1\\\\\n",
       "\\end{tabular}\n"
      ],
      "text/markdown": [
       "\n",
       "A tibble: 359 × 3\n",
       "\n",
       "| Hhsize &lt;dbl&gt; | ExM &lt;dbl&gt; | NutritnStat &lt;fct&gt; |\n",
       "|---|---|---|\n",
       "| 5 | 87000 | 1 |\n",
       "| 8 | 77300 | 1 |\n",
       "| 8 | 90000 | 1 |\n",
       "| ⋮ | ⋮ | ⋮ |\n",
       "|  3 | 47900 | 1 |\n",
       "| 12 | 84000 | 0 |\n",
       "|  5 | 45000 | 1 |\n",
       "\n"
      ],
      "text/plain": [
       "    Hhsize ExM   NutritnStat\n",
       "1   5      87000 1          \n",
       "2   8      77300 1          \n",
       "3   8      90000 1          \n",
       "⋮   ⋮      ⋮     ⋮          \n",
       "357  3     47900 1          \n",
       "358 12     84000 0          \n",
       "359  5     45000 1          "
      ]
     },
     "metadata": {},
     "output_type": "display_data"
    }
   ],
   "source": [
    "set.seed(1)\n",
    "malnutrition_split <- initial_split(malnutrition_data_2, prop = 0.75, strata = NutritnStat)\n",
    "malnutrition_train <- training(malnutrition_split)\n",
    "malnutrition_test <- testing(malnutrition_split)\n",
    "malnutrition_train"
   ]
  },
  {
   "cell_type": "markdown",
   "metadata": {},
   "source": [
    "Here is the visualization of our training data in a scatter plot."
   ]
  },
  {
   "cell_type": "code",
   "execution_count": 25,
   "metadata": {},
   "outputs": [
    {
     "data": {
      "image/png": "[encoded data removed]",
      "text/plain": [
       "plot without title"
      ]
     },
     "metadata": {
      "image/png": {
       "height": 420,
       "width": 420
      }
     },
     "output_type": "display_data"
    }
   ],
   "source": [
    "set.seed(1)\n",
    "malnutrition_train_graph <- malnutrition_train %>% ggplot(aes(x = Hhsize, y = ExM, color = NutritnStat)) +\n",
    "                            geom_point() \n",
    "malnutrition_train_graph"
   ]
  },
  {
   "cell_type": "code",
   "execution_count": null,
   "metadata": {},
   "outputs": [],
   "source": []
  }
 ],
 "metadata": {
  "kernelspec": {
   "display_name": "R",
   "language": "R",
   "name": "ir"
  },
  "language_info": {
   "codemirror_mode": "r",
   "file_extension": ".r",
   "mimetype": "text/x-r-source",
   "name": "R",
   "pygments_lexer": "r",
   "version": "4.0.0"
  }
 },
 "nbformat": 4,
 "nbformat_minor": 4
}
